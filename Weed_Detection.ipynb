{
  "nbformat": 4,
  "nbformat_minor": 0,
  "metadata": {
    "colab": {
      "name": "Copy of Copy of weed.ipynb",
      "provenance": [],
      "collapsed_sections": [],
      "include_colab_link": true
    },
    "kernelspec": {
      "name": "python3",
      "display_name": "Python 3"
    },
    "accelerator": "GPU"
  },
  "cells": [
    {
      "cell_type": "markdown",
      "metadata": {
        "id": "view-in-github",
        "colab_type": "text"
      },
      "source": [
        "<a href=\"https://colab.research.google.com/github/Nikhileswar-Komati/Deep-Learning/blob/master/Weed_Detection.ipynb\" target=\"_parent\"><img src=\"https://colab.research.google.com/assets/colab-badge.svg\" alt=\"Open In Colab\"/></a>"
      ]
    },
    {
      "cell_type": "code",
      "metadata": {
        "id": "iz14RI_Zt0MU",
        "colab_type": "code",
        "outputId": "c5ef0192-212d-4b53-c195-52afa9ab5cc9",
        "colab": {
          "base_uri": "https://localhost:8080/",
          "height": 68
        }
      },
      "source": [
        "import os\n",
        "#kaggle username from api token \n",
        "os.environ['KAGGLE_USERNAME'] = \"sindhumanchikanti\"\n",
        "#kaggle key from api token\n",
        "os.environ['KAGGLE_KEY'] =\"6f09a24a1b5600a06448e7e1341eb1bd\"\n",
        "#dataset path for downloading the data\n",
        "!kaggle datasets download -d fpeccia/weed-detection-in-soybean-crops"
      ],
      "execution_count": 1,
      "outputs": [
        {
          "output_type": "stream",
          "text": [
            "Downloading weed-detection-in-soybean-crops.zip to /content\n",
            "100% 2.36G/2.37G [00:51<00:00, 39.3MB/s]\n",
            "100% 2.37G/2.37G [00:51<00:00, 49.2MB/s]\n"
          ],
          "name": "stdout"
        }
      ]
    },
    {
      "cell_type": "code",
      "metadata": {
        "id": "mc4QXFOduKNn",
        "colab_type": "code",
        "outputId": "26ca1ecc-a3ff-4927-f953-9dd065abe4d0",
        "colab": {
          "base_uri": "https://localhost:8080/",
          "height": 34
        }
      },
      "source": [
        "#upload data\n",
        " \n",
        "#ZipFile is a class of zipfile module for reading and writing zip files\n",
        "from zipfile import ZipFile\n",
        "#filename = zip file path \n",
        "file_name = \"/content/weed-detection-in-soybean-crops.zip\"\n",
        "#to extract the zip file\n",
        "with ZipFile(file_name,'r') as zip:\n",
        "  zip.extractall()\n",
        "  print('done')"
      ],
      "execution_count": 2,
      "outputs": [
        {
          "output_type": "stream",
          "text": [
            "done\n"
          ],
          "name": "stdout"
        }
      ]
    },
    {
      "cell_type": "code",
      "metadata": {
        "id": "qwI0DydpPKLk",
        "colab_type": "code",
        "colab": {}
      },
      "source": [
        "# !rm -rf test_data"
      ],
      "execution_count": 0,
      "outputs": []
    },
    {
      "cell_type": "code",
      "metadata": {
        "id": "lJEQIkSUPUGF",
        "colab_type": "code",
        "colab": {}
      },
      "source": [
        "# !rm -rf train_data"
      ],
      "execution_count": 0,
      "outputs": []
    },
    {
      "cell_type": "code",
      "metadata": {
        "id": "XdtZipPaEtTV",
        "colab_type": "code",
        "colab": {}
      },
      "source": [
        "os.mkdir(\"/content/train_data\")\n",
        "os.mkdir(\"/content/train_data/broadleaf\")\n",
        "os.mkdir(\"/content/train_data/grass\")\n",
        "os.mkdir(\"/content/train_data/soil\")\n",
        "os.mkdir(\"/content/train_data/soybean\")\n"
      ],
      "execution_count": 0,
      "outputs": []
    },
    {
      "cell_type": "code",
      "metadata": {
        "id": "ae-_UdCVFC7T",
        "colab_type": "code",
        "colab": {}
      },
      "source": [
        "os.mkdir(\"/content/test_data\")\n",
        "os.mkdir(\"/content/test_data/broadleaf\")\n",
        "os.mkdir(\"/content/test_data/grass\")\n",
        "os.mkdir(\"/content/test_data/soil\")\n",
        "os.mkdir(\"/content/test_data/soybean\")"
      ],
      "execution_count": 0,
      "outputs": []
    },
    {
      "cell_type": "code",
      "metadata": {
        "id": "09PgunU-KFHs",
        "colab_type": "code",
        "colab": {}
      },
      "source": [
        "from shutil import copyfile \n",
        "import random"
      ],
      "execution_count": 0,
      "outputs": []
    },
    {
      "cell_type": "markdown",
      "metadata": {
        "id": "UKur8SRSJy1-",
        "colab_type": "text"
      },
      "source": [
        ""
      ]
    },
    {
      "cell_type": "code",
      "metadata": {
        "id": "3Hlim5c3HdE-",
        "colab_type": "code",
        "outputId": "18657725-6355-42ba-dca1-b0136acc72a3",
        "colab": {
          "base_uri": "https://localhost:8080/",
          "height": 34
        }
      },
      "source": [
        "def split_data(source,training,testing,split_size):\n",
        "  files = []\n",
        "  for filename in os.listdir(source):\n",
        "    file = source+filename\n",
        "    files.append(filename)\n",
        "    training_length = int(len(files)*split_size)\n",
        "    shuffled_set = random.sample(files,len(files))\n",
        "    training_set = shuffled_set[0:training_length]\n",
        "    testing_set = shuffled_set[training_length:]\n",
        "  for filename in training_set:\n",
        "    this_file = source+filename \n",
        "    destination = training+filename \n",
        "    copyfile(this_file,destination)        \n",
        "  for filename in testing_set:\n",
        "    this_file = source+filename \n",
        "    destination = testing+filename \n",
        "    copyfile(this_file,destination)\n",
        "#split_size = 0.8\n",
        "split_data(\"/content/dataset/broadleaf/\",\"/content/train_data/broadleaf/\",\"/content/test_data/broadleaf/\",0.8)\n",
        "split_data(\"/content/dataset/grass/\",\"/content/train_data/grass/\",\"/content/test_data/grass/\",0.8)\n",
        "split_data(\"/content/dataset/soil/\",\"/content/train_data/soil/\",\"/content/test_data/soil/\",0.8)\n",
        "split_data(\"/content/dataset/soybean/\",\"/content/train_data/soybean/\",\"/content/test_data/soybean/\",0.8)\n",
        "print(\"done\")"
      ],
      "execution_count": 8,
      "outputs": [
        {
          "output_type": "stream",
          "text": [
            "done\n"
          ],
          "name": "stdout"
        }
      ]
    },
    {
      "cell_type": "code",
      "metadata": {
        "id": "msZmPp7MZJqi",
        "colab_type": "code",
        "outputId": "9e7d70d3-2ebe-4d7e-9482-3c9c8d71e8ef",
        "colab": {
          "base_uri": "https://localhost:8080/",
          "height": 34
        }
      },
      "source": [
        "path, dirs, files = next(os.walk(\"/content/train_data/grass\"))\n",
        "print(len(files))"
      ],
      "execution_count": 9,
      "outputs": [
        {
          "output_type": "stream",
          "text": [
            "2816\n"
          ],
          "name": "stdout"
        }
      ]
    },
    {
      "cell_type": "code",
      "metadata": {
        "id": "wGrd3-2OTJDf",
        "colab_type": "code",
        "outputId": "3c9d554e-cfe9-43ad-9e7b-884bab1fca89",
        "colab": {
          "base_uri": "https://localhost:8080/",
          "height": 34
        }
      },
      "source": [
        "from keras.preprocessing.image import ImageDataGenerator, load_img, img_to_array"
      ],
      "execution_count": 10,
      "outputs": [
        {
          "output_type": "stream",
          "text": [
            "Using TensorFlow backend.\n"
          ],
          "name": "stderr"
        }
      ]
    },
    {
      "cell_type": "code",
      "metadata": {
        "id": "Z-6ONUCLRMMC",
        "colab_type": "code",
        "outputId": "8c0ce796-1694-48db-c360-97666d42f732",
        "colab": {
          "base_uri": "https://localhost:8080/",
          "height": 51
        }
      },
      "source": [
        "train_dir = '/content/train_data'\n",
        "test_dir = '/content/test_data'\n",
        "\n",
        "train_gen_obj = ImageDataGenerator(rescale = 1.0/255.0)\n",
        "test_gen_obj = ImageDataGenerator(rescale = 1.0/255.0)\n",
        "\n",
        "train_gen = train_gen_obj.flow_from_directory(train_dir, batch_size = 64, target_size = (150, 150), class_mode = 'categorical')\n",
        "test_gen = test_gen_obj.flow_from_directory(test_dir, batch_size = 32, target_size = (150, 150), class_mode = 'categorical')"
      ],
      "execution_count": 11,
      "outputs": [
        {
          "output_type": "stream",
          "text": [
            "Found 12267 images belonging to 4 classes.\n",
            "Found 3069 images belonging to 4 classes.\n"
          ],
          "name": "stdout"
        }
      ]
    },
    {
      "cell_type": "code",
      "metadata": {
        "id": "TQPyGCO3WRlR",
        "colab_type": "code",
        "colab": {}
      },
      "source": [
        "import tensorflow as tf\n",
        "from tensorflow import keras"
      ],
      "execution_count": 0,
      "outputs": []
    },
    {
      "cell_type": "code",
      "metadata": {
        "id": "b5WxxZBgVdgY",
        "colab_type": "code",
        "colab": {}
      },
      "source": [
        "model = tf.keras.models.Sequential([\n",
        "    # Note the input shape is the desired size of the image 150x150 with 3 bytes color\n",
        "    tf.keras.layers.Conv2D(16, (3,3), activation='relu', input_shape=(150, 150, 3)),\n",
        "    tf.keras.layers.MaxPooling2D(2,2),\n",
        "    tf.keras.layers.Conv2D(32, (3,3), activation='relu'),\n",
        "    tf.keras.layers.MaxPooling2D(2,2), \n",
        "    tf.keras.layers.Conv2D(64, (3,3), activation='relu'), \n",
        "    tf.keras.layers.MaxPooling2D(2,2),\n",
        "    # Flatten the results to feed into a DNN\n",
        "    tf.keras.layers.Flatten(), \n",
        "    # 512 neuron hidden layer\n",
        "    tf.keras.layers.Dense(512, activation='relu'), \n",
        "    tf.keras.layers.Dense(4, activation='softmax')  \n",
        "])"
      ],
      "execution_count": 0,
      "outputs": []
    },
    {
      "cell_type": "code",
      "metadata": {
        "id": "fSpQRlUxWZ0o",
        "colab_type": "code",
        "outputId": "5db9e142-346c-4c6d-aca6-4845f99e5664",
        "colab": {
          "base_uri": "https://localhost:8080/",
          "height": 459
        }
      },
      "source": [
        "model.summary()"
      ],
      "execution_count": 14,
      "outputs": [
        {
          "output_type": "stream",
          "text": [
            "Model: \"sequential\"\n",
            "_________________________________________________________________\n",
            "Layer (type)                 Output Shape              Param #   \n",
            "=================================================================\n",
            "conv2d (Conv2D)              (None, 148, 148, 16)      448       \n",
            "_________________________________________________________________\n",
            "max_pooling2d (MaxPooling2D) (None, 74, 74, 16)        0         \n",
            "_________________________________________________________________\n",
            "conv2d_1 (Conv2D)            (None, 72, 72, 32)        4640      \n",
            "_________________________________________________________________\n",
            "max_pooling2d_1 (MaxPooling2 (None, 36, 36, 32)        0         \n",
            "_________________________________________________________________\n",
            "conv2d_2 (Conv2D)            (None, 34, 34, 64)        18496     \n",
            "_________________________________________________________________\n",
            "max_pooling2d_2 (MaxPooling2 (None, 17, 17, 64)        0         \n",
            "_________________________________________________________________\n",
            "flatten (Flatten)            (None, 18496)             0         \n",
            "_________________________________________________________________\n",
            "dense (Dense)                (None, 512)               9470464   \n",
            "_________________________________________________________________\n",
            "dense_1 (Dense)              (None, 4)                 2052      \n",
            "=================================================================\n",
            "Total params: 9,496,100\n",
            "Trainable params: 9,496,100\n",
            "Non-trainable params: 0\n",
            "_________________________________________________________________\n"
          ],
          "name": "stdout"
        }
      ]
    },
    {
      "cell_type": "code",
      "metadata": {
        "id": "UiwoYBHTZlqM",
        "colab_type": "code",
        "colab": {}
      },
      "source": [
        "# Compile Model. \n",
        "model.compile(loss='categorical_crossentropy', optimizer='adam', metrics=['acc'])"
      ],
      "execution_count": 0,
      "outputs": []
    },
    {
      "cell_type": "code",
      "metadata": {
        "id": "lHYYIrgrZtnk",
        "colab_type": "code",
        "outputId": "25cc074c-84f4-4361-8bac-8e5e48103f7b",
        "colab": {
          "base_uri": "https://localhost:8080/",
          "height": 187
        }
      },
      "source": [
        "# Train the Model\n",
        "history = model.fit(train_gen, validation_data = test_gen, epochs = 5, verbose = 1)"
      ],
      "execution_count": 19,
      "outputs": [
        {
          "output_type": "stream",
          "text": [
            "Epoch 1/5\n",
            "192/192 [==============================] - 60s 311ms/step - loss: 0.5009 - acc: 0.8029 - val_loss: 0.3054 - val_acc: 0.8791\n",
            "Epoch 2/5\n",
            "192/192 [==============================] - 59s 309ms/step - loss: 0.2583 - acc: 0.9001 - val_loss: 0.3012 - val_acc: 0.8788\n",
            "Epoch 3/5\n",
            "192/192 [==============================] - 59s 309ms/step - loss: 0.1751 - acc: 0.9373 - val_loss: 0.2066 - val_acc: 0.9218\n",
            "Epoch 4/5\n",
            "192/192 [==============================] - 59s 309ms/step - loss: 0.1115 - acc: 0.9580 - val_loss: 0.2044 - val_acc: 0.9228\n",
            "Epoch 5/5\n",
            "192/192 [==============================] - 59s 309ms/step - loss: 0.0770 - acc: 0.9733 - val_loss: 0.1869 - val_acc: 0.9299\n"
          ],
          "name": "stdout"
        }
      ]
    },
    {
      "cell_type": "markdown",
      "metadata": {
        "id": "YJAP-nEa9S_c",
        "colab_type": "text"
      },
      "source": [
        ""
      ]
    },
    {
      "cell_type": "code",
      "metadata": {
        "id": "qRUAzSUJqBb1",
        "colab_type": "code",
        "colab": {}
      },
      "source": [
        ""
      ],
      "execution_count": 0,
      "outputs": []
    },
    {
      "cell_type": "code",
      "metadata": {
        "id": "cTdeyie8qn8q",
        "colab_type": "code",
        "colab": {}
      },
      "source": [
        ""
      ],
      "execution_count": 0,
      "outputs": []
    }
  ]
}