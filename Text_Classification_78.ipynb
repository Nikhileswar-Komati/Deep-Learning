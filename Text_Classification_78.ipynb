{
  "nbformat": 4,
  "nbformat_minor": 0,
  "metadata": {
    "kernelspec": {
      "display_name": "Python 3",
      "language": "python",
      "name": "python3"
    },
    "language_info": {
      "codemirror_mode": {
        "name": "ipython",
        "version": 3
      },
      "file_extension": ".py",
      "mimetype": "text/x-python",
      "name": "python",
      "nbconvert_exporter": "python",
      "pygments_lexer": "ipython3",
      "version": "3.7.6"
    },
    "colab": {
      "name": "Template_Notebook.ipynb",
      "provenance": [],
      "collapsed_sections": [],
      "include_colab_link": true
    },
    "accelerator": "GPU"
  },
  "cells": [
    {
      "cell_type": "markdown",
      "metadata": {
        "id": "view-in-github",
        "colab_type": "text"
      },
      "source": [
        "<a href=\"https://colab.research.google.com/github/Nikhileswar-Komati/Deep-Learning/blob/master/Text_Classification_78.ipynb\" target=\"_parent\"><img src=\"https://colab.research.google.com/assets/colab-badge.svg\" alt=\"Open In Colab\"/></a>"
      ]
    },
    {
      "cell_type": "code",
      "metadata": {
        "id": "ZV2aRutSGQ94",
        "colab_type": "code",
        "colab": {}
      },
      "source": [
        "from google.colab import files\n",
        "files.upload()"
      ],
      "execution_count": null,
      "outputs": []
    },
    {
      "cell_type": "code",
      "metadata": {
        "id": "_t_6OC1bFKN1",
        "colab_type": "code",
        "colab": {}
      },
      "source": [
        "#Import all your required libraries here\n",
        "# E.g.\n",
        "import pandas as pd\n",
        "import numpy as np\n",
        "import logging\n",
        "import pandas as pd\n",
        "import numpy as np\n",
        "from numpy import random\n",
        "import gensim\n",
        "import nltk\n",
        "from sklearn.model_selection import train_test_split\n",
        "from sklearn.feature_extraction.text import CountVectorizer, TfidfVectorizer\n",
        "from sklearn.metrics import accuracy_score, confusion_matrix\n",
        "import matplotlib.pyplot as plt\n",
        "from nltk.corpus import stopwords\n",
        "import re\n",
        "from bs4 import BeautifulSoup\n",
        "%matplotlib inline\n",
        "from sklearn.preprocessing import LabelEncoder\n",
        "# ---\n",
        "# ---\n"
      ],
      "execution_count": 3,
      "outputs": []
    },
    {
      "cell_type": "code",
      "metadata": {
        "id": "e-S_pAlcFKN5",
        "colab_type": "code",
        "colab": {}
      },
      "source": [
        "# Read Training Data and store in a DataFrame\n",
        "train_df = pd.read_excel('CCC_TrainingData.xlsx')\n",
        "\n",
        "# Read Test Data and store in a DataFrame\n",
        "test_df = pd.read_excel('CCC_TestData.xlsx')\n"
      ],
      "execution_count": 4,
      "outputs": []
    },
    {
      "cell_type": "code",
      "metadata": {
        "id": "WSyDEcUvFKN8",
        "colab_type": "code",
        "colab": {
          "base_uri": "https://localhost:8080/",
          "height": 238
        },
        "outputId": "239bb912-1931-488e-cb00-a36f36c0ca8c"
      },
      "source": [
        "# Print out statistics about the data\n",
        "# E.g. How many many matches?\n",
        "# How many target classes?\n",
        "# How is the target class distributed?\n",
        "# If possible draw plots to showcase some statistics\n",
        "# ---\n",
        "# ---\n",
        "train_df.info()"
      ],
      "execution_count": 5,
      "outputs": [
        {
          "output_type": "stream",
          "text": [
            "<class 'pandas.core.frame.DataFrame'>\n",
            "RangeIndex: 101634 entries, 0 to 101633\n",
            "Data columns (total 6 columns):\n",
            " #   Column          Non-Null Count   Dtype  \n",
            "---  ------          --------------   -----  \n",
            " 0   ID              101634 non-null  int64  \n",
            " 1   Match_ID        101634 non-null  int64  \n",
            " 2   Over            101634 non-null  float64\n",
            " 3   Commentary      101634 non-null  object \n",
            " 4   Over_Run_Total  101634 non-null  int64  \n",
            " 5   Target          101634 non-null  object \n",
            "dtypes: float64(1), int64(3), object(2)\n",
            "memory usage: 4.7+ MB\n"
          ],
          "name": "stdout"
        }
      ]
    },
    {
      "cell_type": "code",
      "metadata": {
        "id": "qaSVTzkonY1i",
        "colab_type": "code",
        "colab": {
          "base_uri": "https://localhost:8080/",
          "height": 204
        },
        "outputId": "151a2ff7-6c67-4d08-9d56-61b51e1830fb"
      },
      "source": [
        "df = train_df[['Commentary', 'Target']]\n",
        "df.head()"
      ],
      "execution_count": 6,
      "outputs": [
        {
          "output_type": "execute_result",
          "data": {
            "text/html": [
              "<div>\n",
              "<style scoped>\n",
              "    .dataframe tbody tr th:only-of-type {\n",
              "        vertical-align: middle;\n",
              "    }\n",
              "\n",
              "    .dataframe tbody tr th {\n",
              "        vertical-align: top;\n",
              "    }\n",
              "\n",
              "    .dataframe thead th {\n",
              "        text-align: right;\n",
              "    }\n",
              "</style>\n",
              "<table border=\"1\" class=\"dataframe\">\n",
              "  <thead>\n",
              "    <tr style=\"text-align: right;\">\n",
              "      <th></th>\n",
              "      <th>Commentary</th>\n",
              "      <th>Target</th>\n",
              "    </tr>\n",
              "  </thead>\n",
              "  <tbody>\n",
              "    <tr>\n",
              "      <th>0</th>\n",
              "      <td>and india reach 300. there has been a 300 in ...</td>\n",
              "      <td>Run_Bw_Wickets</td>\n",
              "    </tr>\n",
              "    <tr>\n",
              "      <th>1</th>\n",
              "      <td>slower ball, ashwin bunts this to leg for -99...</td>\n",
              "      <td>Run_Bw_Wickets</td>\n",
              "    </tr>\n",
              "    <tr>\n",
              "      <th>2</th>\n",
              "      <td>full toss on off, he just slogs, gets a thick...</td>\n",
              "      <td>Run_Bw_Wickets</td>\n",
              "    </tr>\n",
              "    <tr>\n",
              "      <th>3</th>\n",
              "      <td>that's the closest you'll get to a hat-trick ...</td>\n",
              "      <td>Dot</td>\n",
              "    </tr>\n",
              "    <tr>\n",
              "      <th>4</th>\n",
              "      <td>sohail is doing the sajda after bowling rahan...</td>\n",
              "      <td>Wicket</td>\n",
              "    </tr>\n",
              "  </tbody>\n",
              "</table>\n",
              "</div>"
            ],
            "text/plain": [
              "                                          Commentary          Target\n",
              "0   and india reach 300. there has been a 300 in ...  Run_Bw_Wickets\n",
              "1   slower ball, ashwin bunts this to leg for -99...  Run_Bw_Wickets\n",
              "2   full toss on off, he just slogs, gets a thick...  Run_Bw_Wickets\n",
              "3   that's the closest you'll get to a hat-trick ...             Dot\n",
              "4   sohail is doing the sajda after bowling rahan...          Wicket"
            ]
          },
          "metadata": {
            "tags": []
          },
          "execution_count": 6
        }
      ]
    },
    {
      "cell_type": "code",
      "metadata": {
        "id": "zvqAvhLbLYsb",
        "colab_type": "code",
        "colab": {
          "base_uri": "https://localhost:8080/",
          "height": 102
        },
        "outputId": "5b44957b-2def-4d82-cf27-eb9bfdffc0eb"
      },
      "source": [
        "df.Target.value_counts()"
      ],
      "execution_count": 7,
      "outputs": [
        {
          "output_type": "execute_result",
          "data": {
            "text/plain": [
              "Run_Bw_Wickets    43085\n",
              "Dot               42522\n",
              "Boundary          12134\n",
              "Wicket             3893\n",
              "Name: Target, dtype: int64"
            ]
          },
          "metadata": {
            "tags": []
          },
          "execution_count": 7
        }
      ]
    },
    {
      "cell_type": "code",
      "metadata": {
        "id": "XAfGjQgNO2k3",
        "colab_type": "code",
        "colab": {
          "base_uri": "https://localhost:8080/",
          "height": 136
        },
        "outputId": "3781eb95-d711-4b89-c782-c215e0dc561e"
      },
      "source": [
        "df['Target_Id'] = LabelEncoder().fit_transform(df.Target)\n",
        "df.sample(5)\n",
        "print(df['Commentary'].apply(lambda x: len(x.split(' '))).sum())"
      ],
      "execution_count": 12,
      "outputs": [
        {
          "output_type": "stream",
          "text": [
            "1997947\n"
          ],
          "name": "stdout"
        },
        {
          "output_type": "stream",
          "text": [
            "/usr/local/lib/python3.6/dist-packages/ipykernel_launcher.py:1: SettingWithCopyWarning: \n",
            "A value is trying to be set on a copy of a slice from a DataFrame.\n",
            "Try using .loc[row_indexer,col_indexer] = value instead\n",
            "\n",
            "See the caveats in the documentation: https://pandas.pydata.org/pandas-docs/stable/user_guide/indexing.html#returning-a-view-versus-a-copy\n",
            "  \"\"\"Entry point for launching an IPython kernel.\n"
          ],
          "name": "stderr"
        }
      ]
    },
    {
      "cell_type": "code",
      "metadata": {
        "id": "DAaC7E8KQ2e0",
        "colab_type": "code",
        "colab": {
          "base_uri": "https://localhost:8080/",
          "height": 461
        },
        "outputId": "23a3dc1d-c155-4ec4-a0ad-94e5c5c24db6"
      },
      "source": [
        "import matplotlib.pyplot as plt\n",
        "fig = plt.figure(figsize=(8,6))\n",
        "df.groupby('Target').Commentary.count().plot.bar(ylim=0)\n",
        "plt.show()"
      ],
      "execution_count": 11,
      "outputs": [
        {
          "output_type": "display_data",
          "data": {
            "image/png": "[encoded data removed]",
            "text/plain": [
              "<Figure size 576x432 with 1 Axes>"
            ]
          },
          "metadata": {
            "tags": [],
            "needs_background": "light"
          }
        }
      ]
    },
    {
      "cell_type": "code",
      "metadata": {
        "id": "2iZ_4yz9oWNC",
        "colab_type": "code",
        "colab": {
          "base_uri": "https://localhost:8080/",
          "height": 34
        },
        "outputId": "4af765e7-72f9-49f5-e87c-631d14fc07ea"
      },
      "source": [
        "print(df['Commentary'][10], df['Target'][10])"
      ],
      "execution_count": 15,
      "outputs": [
        {
          "output_type": "stream",
          "text": [
            " cramps dhoni up with a shortish delivery. just the -999 again Run_Bw_Wickets\n"
          ],
          "name": "stdout"
        }
      ]
    },
    {
      "cell_type": "code",
      "metadata": {
        "id": "cIHgZF6MozNl",
        "colab_type": "code",
        "colab": {
          "base_uri": "https://localhost:8080/",
          "height": 34
        },
        "outputId": "2261ebba-93fe-4957-c5f1-b09f8e4d7401"
      },
      "source": [
        "print(df['Commentary'][20], df['Target'][20])"
      ],
      "execution_count": 17,
      "outputs": [
        {
          "output_type": "stream",
          "text": [
            " drilled -999. in typical dhoni fashion, stays back and brings the bottom hand into this punch. length ball again, and sent between mid-off and cover Boundary\n"
          ],
          "name": "stdout"
        }
      ]
    },
    {
      "cell_type": "code",
      "metadata": {
        "id": "6B47LSpBRq2F",
        "colab_type": "code",
        "colab": {}
      },
      "source": [
        "from sklearn.feature_extraction.text import TfidfVectorizer\n",
        "tfidf = TfidfVectorizer(stop_words='english')\n",
        "features = tfidf.fit_transform(train_df.Commentary).toarray()\n",
        "labels = train_df.Target_Id\n",
        "features.shape"
      ],
      "execution_count": null,
      "outputs": []
    },
    {
      "cell_type": "code",
      "metadata": {
        "id": "c-_65vDNFKOA",
        "colab_type": "code",
        "colab": {
          "base_uri": "https://localhost:8080/",
          "height": 136
        },
        "outputId": "60aa79fd-9859-4fbc-fc10-e029e5006960"
      },
      "source": [
        "# Define helper functions to prepare your data\n",
        "# E.g. Function to clean your textual features\n",
        "# Function to scale/normalize numeric features\n",
        "# ---\n",
        "# ---\n",
        "# Basic function to clean the text\n",
        "import nltk\n",
        "nltk.download('stopwords')\n",
        "REPLACE_BY_SPACE_RE = re.compile('[/(){}\\[\\]\\|@,;]')\n",
        "BAD_SYMBOLS_RE = re.compile('[^0-9a-z #+_]')\n",
        "STOPWORDS = set(stopwords.words('english'))\n",
        "\n",
        "def cleanup_text_column(text):\n",
        "    \n",
        "    # your logic here\n",
        "    text = text.lower() # lowercase text\n",
        "    text = REPLACE_BY_SPACE_RE.sub(' ', text) # replace REPLACE_BY_SPACE_RE symbols by space in text\n",
        "    text = BAD_SYMBOLS_RE.sub('', text) # delete symbols which are in BAD_SYMBOLS_RE from text\n",
        "    text = ' '.join(word for word in text.split() if word not in STOPWORDS) # delete stopwors from text\n",
        "    return text\n",
        "df['Commentary'] = df['Commentary'].apply(cleanup_text_column)"
      ],
      "execution_count": 19,
      "outputs": [
        {
          "output_type": "stream",
          "text": [
            "[nltk_data] Downloading package stopwords to /root/nltk_data...\n",
            "[nltk_data]   Unzipping corpora/stopwords.zip.\n"
          ],
          "name": "stdout"
        },
        {
          "output_type": "stream",
          "text": [
            "/usr/local/lib/python3.6/dist-packages/ipykernel_launcher.py:21: SettingWithCopyWarning: \n",
            "A value is trying to be set on a copy of a slice from a DataFrame.\n",
            "Try using .loc[row_indexer,col_indexer] = value instead\n",
            "\n",
            "See the caveats in the documentation: https://pandas.pydata.org/pandas-docs/stable/user_guide/indexing.html#returning-a-view-versus-a-copy\n"
          ],
          "name": "stderr"
        }
      ]
    },
    {
      "cell_type": "code",
      "metadata": {
        "id": "cbk7NbQzqsfQ",
        "colab_type": "code",
        "colab": {
          "base_uri": "https://localhost:8080/",
          "height": 34
        },
        "outputId": "98119e70-73bb-4a8f-d435-4e4f3fce0f0c"
      },
      "source": [
        "print(df['Commentary'][10], df['Target'][10])"
      ],
      "execution_count": 20,
      "outputs": [
        {
          "output_type": "stream",
          "text": [
            "cramps dhoni shortish delivery 999 Run_Bw_Wickets\n"
          ],
          "name": "stdout"
        }
      ]
    },
    {
      "cell_type": "code",
      "metadata": {
        "id": "Y1h4wrkJq3n-",
        "colab_type": "code",
        "colab": {
          "base_uri": "https://localhost:8080/",
          "height": 51
        },
        "outputId": "b19ebc7f-0689-46b2-8a23-918ce1605b8c"
      },
      "source": [
        "print(df['Commentary'][20], df['Target'][20])\n",
        "print(df['Commentary'].apply(lambda x: len(x.split(' '))).sum())"
      ],
      "execution_count": 22,
      "outputs": [
        {
          "output_type": "stream",
          "text": [
            "drilled 999 typical dhoni fashion stays back brings bottom hand punch length ball sent midoff cover Boundary\n",
            "1063372\n"
          ],
          "name": "stdout"
        }
      ]
    },
    {
      "cell_type": "code",
      "metadata": {
        "id": "4iJeWGGAraZ8",
        "colab_type": "code",
        "colab": {}
      },
      "source": [
        "X = df.Commentary\n",
        "y = df.Target_Id\n",
        "X_train, X_test, y_train, y_test = train_test_split(X, y, test_size=0.3, random_state = 42)"
      ],
      "execution_count": 23,
      "outputs": []
    },
    {
      "cell_type": "code",
      "metadata": {
        "id": "MqZ3VeSVrrQS",
        "colab_type": "code",
        "colab": {
          "base_uri": "https://localhost:8080/",
          "height": 221
        },
        "outputId": "ee47ea05-34bf-4cff-e144-6fee81f44ab7"
      },
      "source": [
        "from sklearn.naive_bayes import MultinomialNB\n",
        "from sklearn.pipeline import Pipeline\n",
        "from sklearn.feature_extraction.text import TfidfTransformer\n",
        "\n",
        "nb = Pipeline([('vect', CountVectorizer()),\n",
        "               ('tfidf', TfidfTransformer()),\n",
        "               ('clf', MultinomialNB()),\n",
        "              ])\n",
        "nb.fit(X_train, y_train)\n",
        "\n",
        "#%%time\n",
        "from sklearn.metrics import classification_report\n",
        "y_pred = nb.predict(X_test)\n",
        "\n",
        "print('accuracy %s' % accuracy_score(y_pred, y_test))\n",
        "print(classification_report(y_test, y_pred))"
      ],
      "execution_count": 26,
      "outputs": [
        {
          "output_type": "stream",
          "text": [
            "accuracy 0.7126693122560755\n",
            "              precision    recall  f1-score   support\n",
            "\n",
            "           0       0.84      0.25      0.39      3561\n",
            "           1       0.76      0.79      0.78     12855\n",
            "           2       0.66      0.82      0.73     12910\n",
            "           3       0.92      0.03      0.05      1165\n",
            "\n",
            "    accuracy                           0.71     30491\n",
            "   macro avg       0.79      0.47      0.49     30491\n",
            "weighted avg       0.73      0.71      0.69     30491\n",
            "\n"
          ],
          "name": "stdout"
        }
      ]
    },
    {
      "cell_type": "code",
      "metadata": {
        "id": "U0fhE6RDsMLX",
        "colab_type": "code",
        "colab": {
          "base_uri": "https://localhost:8080/",
          "height": 221
        },
        "outputId": "79bea2c0-dc84-4e08-f77d-05b2a364f9d0"
      },
      "source": [
        "from sklearn.linear_model import SGDClassifier\n",
        "\n",
        "sgd = Pipeline([('vect', CountVectorizer()),\n",
        "                ('tfidf', TfidfTransformer()),\n",
        "                ('clf', SGDClassifier(loss='hinge', penalty='l2',alpha=1e-3, random_state=42, max_iter=5, tol=None)),\n",
        "               ])\n",
        "sgd.fit(X_train, y_train)\n",
        "\n",
        "#%%time\n",
        "\n",
        "y_pred = sgd.predict(X_test)\n",
        "\n",
        "print('accuracy %s' % accuracy_score(y_pred, y_test))\n",
        "print(classification_report(y_test, y_pred))"
      ],
      "execution_count": 28,
      "outputs": [
        {
          "output_type": "stream",
          "text": [
            "accuracy 0.7037486471417795\n",
            "              precision    recall  f1-score   support\n",
            "\n",
            "           0       0.79      0.17      0.28      3561\n",
            "           1       0.70      0.87      0.77     12855\n",
            "           2       0.71      0.75      0.73     12910\n",
            "           3       0.82      0.03      0.05      1165\n",
            "\n",
            "    accuracy                           0.70     30491\n",
            "   macro avg       0.75      0.45      0.46     30491\n",
            "weighted avg       0.72      0.70      0.67     30491\n",
            "\n"
          ],
          "name": "stdout"
        }
      ]
    },
    {
      "cell_type": "code",
      "metadata": {
        "id": "2avLeMrpsY0B",
        "colab_type": "code",
        "colab": {
          "base_uri": "https://localhost:8080/",
          "height": 357
        },
        "outputId": "51b559c9-76a0-454b-9bb3-a5edae7750ab"
      },
      "source": [
        "from sklearn.linear_model import LogisticRegression\n",
        "\n",
        "logreg = Pipeline([('vect', CountVectorizer()),\n",
        "                ('tfidf', TfidfTransformer()),\n",
        "                ('clf', LogisticRegression(n_jobs=1, C=1e5)),\n",
        "               ])\n",
        "logreg.fit(X_train, y_train)\n",
        "\n",
        "#%%time\n",
        "\n",
        "y_pred = logreg.predict(X_test)\n",
        "\n",
        "print('accuracy %s' % accuracy_score(y_pred, y_test))\n",
        "print(classification_report(y_test, y_pred))"
      ],
      "execution_count": 30,
      "outputs": [
        {
          "output_type": "stream",
          "text": [
            "/usr/local/lib/python3.6/dist-packages/sklearn/linear_model/_logistic.py:940: ConvergenceWarning: lbfgs failed to converge (status=1):\n",
            "STOP: TOTAL NO. of ITERATIONS REACHED LIMIT.\n",
            "\n",
            "Increase the number of iterations (max_iter) or scale the data as shown in:\n",
            "    https://scikit-learn.org/stable/modules/preprocessing.html\n",
            "Please also refer to the documentation for alternative solver options:\n",
            "    https://scikit-learn.org/stable/modules/linear_model.html#logistic-regression\n",
            "  extra_warning_msg=_LOGISTIC_SOLVER_CONVERGENCE_MSG)\n"
          ],
          "name": "stderr"
        },
        {
          "output_type": "stream",
          "text": [
            "accuracy 0.776753796202158\n",
            "              precision    recall  f1-score   support\n",
            "\n",
            "           0       0.73      0.67      0.70      3561\n",
            "           1       0.80      0.83      0.81     12855\n",
            "           2       0.77      0.77      0.77     12910\n",
            "           3       0.73      0.64      0.68      1165\n",
            "\n",
            "    accuracy                           0.78     30491\n",
            "   macro avg       0.76      0.73      0.74     30491\n",
            "weighted avg       0.78      0.78      0.78     30491\n",
            "\n"
          ],
          "name": "stdout"
        }
      ]
    },
    {
      "cell_type": "code",
      "metadata": {
        "id": "SpCRBEPStNkj",
        "colab_type": "code",
        "colab": {}
      },
      "source": [
        "X_train, X_test, y_train, y_test = train_test_split(X, y, test_size=0.2, random_state = 42)"
      ],
      "execution_count": 31,
      "outputs": []
    },
    {
      "cell_type": "code",
      "metadata": {
        "id": "ua3Ak6outTuC",
        "colab_type": "code",
        "colab": {
          "base_uri": "https://localhost:8080/",
          "height": 357
        },
        "outputId": "350040f8-97f3-4467-98db-c3e0a9f4c47b"
      },
      "source": [
        "from sklearn.linear_model import LogisticRegression\n",
        "\n",
        "logreg = Pipeline([('vect', CountVectorizer()),\n",
        "                ('tfidf', TfidfTransformer()),\n",
        "                ('clf', LogisticRegression(n_jobs=1, C=1e5)),\n",
        "               ])\n",
        "logreg.fit(X_train, y_train)\n",
        "\n",
        "#%%time\n",
        "\n",
        "y_pred = logreg.predict(X_test)\n",
        "\n",
        "print('accuracy %s' % accuracy_score(y_pred, y_test))\n",
        "print(classification_report(y_test, y_pred))"
      ],
      "execution_count": 32,
      "outputs": [
        {
          "output_type": "stream",
          "text": [
            "/usr/local/lib/python3.6/dist-packages/sklearn/linear_model/_logistic.py:940: ConvergenceWarning: lbfgs failed to converge (status=1):\n",
            "STOP: TOTAL NO. of ITERATIONS REACHED LIMIT.\n",
            "\n",
            "Increase the number of iterations (max_iter) or scale the data as shown in:\n",
            "    https://scikit-learn.org/stable/modules/preprocessing.html\n",
            "Please also refer to the documentation for alternative solver options:\n",
            "    https://scikit-learn.org/stable/modules/linear_model.html#logistic-regression\n",
            "  extra_warning_msg=_LOGISTIC_SOLVER_CONVERGENCE_MSG)\n"
          ],
          "name": "stderr"
        },
        {
          "output_type": "stream",
          "text": [
            "accuracy 0.7827520047227825\n",
            "              precision    recall  f1-score   support\n",
            "\n",
            "           0       0.74      0.69      0.71      2353\n",
            "           1       0.80      0.84      0.82      8639\n",
            "           2       0.78      0.77      0.77      8554\n",
            "           3       0.75      0.62      0.68       781\n",
            "\n",
            "    accuracy                           0.78     20327\n",
            "   macro avg       0.77      0.73      0.75     20327\n",
            "weighted avg       0.78      0.78      0.78     20327\n",
            "\n"
          ],
          "name": "stdout"
        }
      ]
    },
    {
      "cell_type": "code",
      "metadata": {
        "id": "JAUegVRCtkD6",
        "colab_type": "code",
        "colab": {
          "base_uri": "https://localhost:8080/",
          "height": 221
        },
        "outputId": "fc7e1eae-e688-49e6-c660-80fab75a80bc"
      },
      "source": [
        "from sklearn.linear_model import SGDClassifier\n",
        "\n",
        "sgd = Pipeline([('vect', CountVectorizer()),\n",
        "                ('tfidf', TfidfTransformer()),\n",
        "                ('clf', SGDClassifier(loss='hinge', penalty='l2',alpha=1e-3, random_state=42, max_iter=5, tol=None)),\n",
        "               ])\n",
        "sgd.fit(X_train, y_train)\n",
        "\n",
        "#%%time\n",
        "\n",
        "y_pred = sgd.predict(X_test)\n",
        "\n",
        "print('accuracy %s' % accuracy_score(y_pred, y_test))\n",
        "print(classification_report(y_test, y_pred))"
      ],
      "execution_count": 33,
      "outputs": [
        {
          "output_type": "stream",
          "text": [
            "accuracy 0.7068923107197324\n",
            "              precision    recall  f1-score   support\n",
            "\n",
            "           0       0.78      0.18      0.29      2353\n",
            "           1       0.70      0.86      0.78      8639\n",
            "           2       0.71      0.76      0.73      8554\n",
            "           3       0.81      0.03      0.06       781\n",
            "\n",
            "    accuracy                           0.71     20327\n",
            "   macro avg       0.75      0.46      0.47     20327\n",
            "weighted avg       0.72      0.71      0.67     20327\n",
            "\n"
          ],
          "name": "stdout"
        }
      ]
    },
    {
      "cell_type": "code",
      "metadata": {
        "id": "mm5wj7WtFKOC",
        "colab_type": "code",
        "colab": {}
      },
      "source": [
        "# Apply the defined helper functions on your data\n",
        "# E.g.\n",
        "train_df[\"xxxxx\"] = train_df._________"
      ],
      "execution_count": null,
      "outputs": []
    },
    {
      "cell_type": "code",
      "metadata": {
        "id": "S2r_aWR5FKOF",
        "colab_type": "code",
        "colab": {}
      },
      "source": [
        "# Generate features from Text columns\n",
        "# Hint. Tokenize and Vectorize\n",
        "# E.g.\n",
        "Cvectorizer = ____(tokenizer=___,______)"
      ],
      "execution_count": null,
      "outputs": []
    },
    {
      "cell_type": "code",
      "metadata": {
        "id": "wKJuvxFtFKOH",
        "colab_type": "code",
        "colab": {}
      },
      "source": [
        "# Apply your vectorizers on the data\n",
        "____ = Cvectorizer.fit_transform(_____)"
      ],
      "execution_count": null,
      "outputs": []
    },
    {
      "cell_type": "code",
      "metadata": {
        "id": "vgyHdc-xFKON",
        "colab_type": "code",
        "colab": {}
      },
      "source": [
        "# Split your training data into Train\n",
        "X_train, X_test, y_train, y_test = "
      ],
      "execution_count": null,
      "outputs": []
    },
    {
      "cell_type": "code",
      "metadata": {
        "id": "7pQjMYfDFKOR",
        "colab_type": "code",
        "colab": {}
      },
      "source": [
        "# Define your classifier model\n",
        "classifier = _________"
      ],
      "execution_count": null,
      "outputs": []
    },
    {
      "cell_type": "code",
      "metadata": {
        "id": "0kLdQA-7FKOW",
        "colab_type": "code",
        "colab": {}
      },
      "source": [
        "# Train the model\n",
        "classifier.fit(X_train,y_train)"
      ],
      "execution_count": null,
      "outputs": []
    },
    {
      "cell_type": "code",
      "metadata": {
        "id": "X5p7_G2qFKOc",
        "colab_type": "code",
        "colab": {}
      },
      "source": [
        "# Generate Predictions\n",
        "predictions_on_train_data = classifier.predict(X_test)\n"
      ],
      "execution_count": null,
      "outputs": []
    },
    {
      "cell_type": "code",
      "metadata": {
        "id": "cvLldtDjFKOg",
        "colab_type": "code",
        "colab": {}
      },
      "source": [
        "#Evaluating the model\n",
        "\n",
        "# Model Accuracy\n",
        "print(\"Model Accuracy:\",____.accuracy_score(y_test, predicted))\n",
        "\n",
        "# Model F1 Score\n",
        "print(\"F1 Score:\",____.f1_score(y_test, predicted,average=''))"
      ],
      "execution_count": null,
      "outputs": []
    },
    {
      "cell_type": "code",
      "metadata": {
        "id": "J5UEe8CKFKOj",
        "colab_type": "code",
        "colab": {}
      },
      "source": [
        "# Make predictions on the test data\n",
        "predictions_on_test_data = _________"
      ],
      "execution_count": null,
      "outputs": []
    },
    {
      "cell_type": "code",
      "metadata": {
        "id": "tU1nTJ_-FKOm",
        "colab_type": "code",
        "colab": {}
      },
      "source": [
        "#Preparing Submission File\n",
        "submission_DF = pd.DataFrame({'ID': test_df[\"ID\"], 'Target': predictions_on_test_data})\n",
        "\n",
        "# Write the submission data frame to a file\n",
        "predictions_on_test_data.___(\"\")"
      ],
      "execution_count": null,
      "outputs": []
    }
  ]
}