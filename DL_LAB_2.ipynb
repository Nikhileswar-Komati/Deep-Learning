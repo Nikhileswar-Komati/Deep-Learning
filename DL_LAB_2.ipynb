{
  "nbformat": 4,
  "nbformat_minor": 0,
  "metadata": {
    "colab": {
      "name": "DL_LAB_2.ipynb",
      "provenance": [],
      "authorship_tag": "ABX9TyMM5VqPA6gqPzVG4rSQO+rh",
      "include_colab_link": true
    },
    "kernelspec": {
      "name": "python3",
      "display_name": "Python 3"
    }
  },
  "cells": [
    {
      "cell_type": "markdown",
      "metadata": {
        "id": "view-in-github",
        "colab_type": "text"
      },
      "source": [
        "<a href=\"https://colab.research.google.com/github/Nikhileswar-Komati/Deep-Learning/blob/master/DL_LAB_2.ipynb\" target=\"_parent\"><img src=\"https://colab.research.google.com/assets/colab-badge.svg\" alt=\"Open In Colab\"/></a>"
      ]
    },
    {
      "cell_type": "code",
      "metadata": {
        "id": "tXhBJlUv2eYz",
        "colab_type": "code",
        "colab": {}
      },
      "source": [
        "import matplotlib.pyplot as plt\n",
        "import numpy as np\n",
        "import pandas as pd"
      ],
      "execution_count": 1,
      "outputs": []
    },
    {
      "cell_type": "code",
      "metadata": {
        "id": "F1-eidAq26TU",
        "colab_type": "code",
        "colab": {
          "base_uri": "https://localhost:8080/",
          "height": 204
        },
        "outputId": "eb502725-46c3-4579-9c7a-1081046c9ad5"
      },
      "source": [
        "data = {   \"arr\" : np.random.normal(scale = 10, size = 100) }\n",
        "df = pd.DataFrame(data)\n",
        "df.sample(5)"
      ],
      "execution_count": 2,
      "outputs": [
        {
          "output_type": "execute_result",
          "data": {
            "text/html": [
              "<div>\n",
              "<style scoped>\n",
              "    .dataframe tbody tr th:only-of-type {\n",
              "        vertical-align: middle;\n",
              "    }\n",
              "\n",
              "    .dataframe tbody tr th {\n",
              "        vertical-align: top;\n",
              "    }\n",
              "\n",
              "    .dataframe thead th {\n",
              "        text-align: right;\n",
              "    }\n",
              "</style>\n",
              "<table border=\"1\" class=\"dataframe\">\n",
              "  <thead>\n",
              "    <tr style=\"text-align: right;\">\n",
              "      <th></th>\n",
              "      <th>arr</th>\n",
              "    </tr>\n",
              "  </thead>\n",
              "  <tbody>\n",
              "    <tr>\n",
              "      <th>96</th>\n",
              "      <td>-8.160565</td>\n",
              "    </tr>\n",
              "    <tr>\n",
              "      <th>91</th>\n",
              "      <td>3.757038</td>\n",
              "    </tr>\n",
              "    <tr>\n",
              "      <th>51</th>\n",
              "      <td>0.622693</td>\n",
              "    </tr>\n",
              "    <tr>\n",
              "      <th>82</th>\n",
              "      <td>-9.826002</td>\n",
              "    </tr>\n",
              "    <tr>\n",
              "      <th>67</th>\n",
              "      <td>8.646721</td>\n",
              "    </tr>\n",
              "  </tbody>\n",
              "</table>\n",
              "</div>"
            ],
            "text/plain": [
              "         arr\n",
              "96 -8.160565\n",
              "91  3.757038\n",
              "51  0.622693\n",
              "82 -9.826002\n",
              "67  8.646721"
            ]
          },
          "metadata": {
            "tags": []
          },
          "execution_count": 2
        }
      ]
    },
    {
      "cell_type": "code",
      "metadata": {
        "id": "r4heu-qG4O5U",
        "colab_type": "code",
        "colab": {}
      },
      "source": [
        "def sigmoid(val):\n",
        "  return 1 / (1 + np.exp(-val))\n",
        "\n",
        "def relu(val):\n",
        "  return max(0, val)\n",
        "\n",
        "def step(val):\n",
        "  if val >= 0:\n",
        "    return 1\n",
        "  return 0"
      ],
      "execution_count": 3,
      "outputs": []
    },
    {
      "cell_type": "code",
      "metadata": {
        "id": "byFZBBTB2--T",
        "colab_type": "code",
        "colab": {}
      },
      "source": [
        "df['sigmoid'] = df['arr'].apply(lambda x: sigmoid(x))\n",
        "\n",
        "df['relu'] = df['arr'].apply(lambda x: relu(x))\n",
        "\n",
        "df['step'] = df['arr'].apply(lambda x: step(x))"
      ],
      "execution_count": 4,
      "outputs": []
    },
    {
      "cell_type": "code",
      "metadata": {
        "id": "iF-LIKiX8EJq",
        "colab_type": "code",
        "colab": {
          "base_uri": "https://localhost:8080/",
          "height": 350
        },
        "outputId": "9b0b9f29-adc3-4aa9-ebf4-8729f171a8bc"
      },
      "source": [
        "import seaborn as sns\n",
        "sns.lineplot(x = df['arr'], y = df['sigmoid'])"
      ],
      "execution_count": 5,
      "outputs": [
        {
          "output_type": "stream",
          "text": [
            "/usr/local/lib/python3.6/dist-packages/statsmodels/tools/_testing.py:19: FutureWarning: pandas.util.testing is deprecated. Use the functions in the public API at pandas.testing instead.\n",
            "  import pandas.util.testing as tm\n"
          ],
          "name": "stderr"
        },
        {
          "output_type": "execute_result",
          "data": {
            "text/plain": [
              "<matplotlib.axes._subplots.AxesSubplot at 0x7fd403e55390>"
            ]
          },
          "metadata": {
            "tags": []
          },
          "execution_count": 5
        },
        {
          "output_type": "display_data",
          "data": {
            "image/png": "[encoded data removed]",
            "text/plain": [
              "<Figure size 432x288 with 1 Axes>"
            ]
          },
          "metadata": {
            "tags": [],
            "needs_background": "light"
          }
        }
      ]
    },
    {
      "cell_type": "code",
      "metadata": {
        "id": "r4A6i9fH8FC3",
        "colab_type": "code",
        "colab": {
          "base_uri": "https://localhost:8080/",
          "height": 296
        },
        "outputId": "c9087077-ccfe-4c02-face-1630c84e95b1"
      },
      "source": [
        "sns.lineplot(x = df['arr'], y = df['relu'])"
      ],
      "execution_count": 6,
      "outputs": [
        {
          "output_type": "execute_result",
          "data": {
            "text/plain": [
              "<matplotlib.axes._subplots.AxesSubplot at 0x7fd403d3c198>"
            ]
          },
          "metadata": {
            "tags": []
          },
          "execution_count": 6
        },
        {
          "output_type": "display_data",
          "data": {
            "image/png": "[encoded data removed]",
            "text/plain": [
              "<Figure size 432x288 with 1 Axes>"
            ]
          },
          "metadata": {
            "tags": [],
            "needs_background": "light"
          }
        }
      ]
    },
    {
      "cell_type": "code",
      "metadata": {
        "id": "DTYFy52l-Ssw",
        "colab_type": "code",
        "colab": {
          "base_uri": "https://localhost:8080/",
          "height": 296
        },
        "outputId": "c52efb67-af77-44db-c88f-487fb491313b"
      },
      "source": [
        "sns.lineplot(x = df['arr'], y = df['step'])"
      ],
      "execution_count": 7,
      "outputs": [
        {
          "output_type": "execute_result",
          "data": {
            "text/plain": [
              "<matplotlib.axes._subplots.AxesSubplot at 0x7fd4038e2ac8>"
            ]
          },
          "metadata": {
            "tags": []
          },
          "execution_count": 7
        },
        {
          "output_type": "display_data",
          "data": {
            "image/png": "[encoded data removed]",
            "text/plain": [
              "<Figure size 432x288 with 1 Axes>"
            ]
          },
          "metadata": {
            "tags": [],
            "needs_background": "light"
          }
        }
      ]
    },
    {
      "cell_type": "code",
      "metadata": {
        "id": "ECZAcmTo-4pU",
        "colab_type": "code",
        "colab": {}
      },
      "source": [
        "class Perceptron():\n",
        "  def __init__(self, lr = 1, epochs = 100):\n",
        "    self.epochs = epochs\n",
        "    self.lr = lr\n",
        "    \n",
        "  def step(self, val):\n",
        "    if val >= 0:\n",
        "      return 1\n",
        "    return 0 \n",
        "\n",
        "  def predict(self, test_x):\n",
        "    # print(self.weights.shape, test_x.shape)\n",
        "    z = np.dot(self.weights.T, test_x)\n",
        "    # print(z)\n",
        "    a = self.step(z)\n",
        "    return a\n",
        " \n",
        "  def fit(self, train_x, train_y):\n",
        "    # print(train_x, train_x.shape)\n",
        "    train_x = np.insert(train_x, 0, 1, axis = 1)\n",
        "    # print(train_x, train_x.shape)\n",
        "    self.weights = np.zeros(train_x.shape[1])\n",
        "    for epoch in range(self.epochs):\n",
        "      for i in range(train_x.shape[0]):\n",
        "        y = self.predict(train_x[i])\n",
        "        error = train_y[i] - y\n",
        "        self.weights += self.lr * error * train_x[i]\n",
        "    return self "
      ],
      "execution_count": 38,
      "outputs": []
    },
    {
      "cell_type": "markdown",
      "metadata": {
        "id": "j6cFH5DBPkzU",
        "colab_type": "text"
      },
      "source": [
        "#OR GATE"
      ]
    },
    {
      "cell_type": "code",
      "metadata": {
        "id": "u3rPe5i8DHR2",
        "colab_type": "code",
        "colab": {
          "base_uri": "https://localhost:8080/",
          "height": 51
        },
        "outputId": "52cbc7e3-ec56-49c9-8793-1509908e6330"
      },
      "source": [
        "input = np.array([[0, 0], [0, 1], [1, 0], [1, 1]])\n",
        "target = np.array([0, 1, 1, 1])\n",
        "obj = Perceptron()\n",
        "params = obj.fit(input, target)\n",
        "print(\"Bias = \", params.weights[0], \"Weights = \", params.weights[1:])\n",
        "print(\"predicted Value\", obj.predict(np.array([1, 1, 0])))"
      ],
      "execution_count": 37,
      "outputs": [
        {
          "output_type": "stream",
          "text": [
            "Bias =  -1.0 Weights =  [1. 1.]\n",
            "predicted Value 1\n"
          ],
          "name": "stdout"
        }
      ]
    },
    {
      "cell_type": "markdown",
      "metadata": {
        "id": "k2ZL7NoUPp8O",
        "colab_type": "text"
      },
      "source": [
        "#AND GATE"
      ]
    },
    {
      "cell_type": "code",
      "metadata": {
        "id": "DsXqFgO_MvHt",
        "colab_type": "code",
        "colab": {
          "base_uri": "https://localhost:8080/",
          "height": 51
        },
        "outputId": "892a889c-29c4-4fc1-8b03-e6d3b63d2d98"
      },
      "source": [
        "input = np.array([[0, 0], [0, 1], [1, 0], [1, 1]])\n",
        "target = np.array([0, 0, 0, 1])\n",
        "obj = Perceptron()\n",
        "params = obj.fit(input, target)\n",
        "print(\"Bias = \", params.weights[0], \"Weights = \", params.weights[1:])\n",
        "print(\"predicted Value\", obj.predict(np.array([1, 0, 0])))"
      ],
      "execution_count": 34,
      "outputs": [
        {
          "output_type": "stream",
          "text": [
            "Bias =  -3.0 Weights =  [2. 1.]\n",
            "predicted Value 0\n"
          ],
          "name": "stdout"
        }
      ]
    },
    {
      "cell_type": "markdown",
      "metadata": {
        "id": "7LxnmIAWPsu-",
        "colab_type": "text"
      },
      "source": [
        "#XOR GATE"
      ]
    },
    {
      "cell_type": "code",
      "metadata": {
        "id": "IwkLKcNuPemL",
        "colab_type": "code",
        "colab": {
          "base_uri": "https://localhost:8080/",
          "height": 51
        },
        "outputId": "611a704d-c6c1-4ca3-b59e-43af07ab9ae8"
      },
      "source": [
        "input = np.array([[0, 0], [0, 1], [1, 0], [1, 1]])\n",
        "target = np.array([0, 1, 1, 0])\n",
        "obj = Perceptron()\n",
        "params = obj.fit(input, target)\n",
        "print(\"Bias = \", params.weights[0], \"Weights = \", params.weights[1:])\n",
        "print(\"predicted Value\", obj.predict(np.array([1, 1, 0])))"
      ],
      "execution_count": 29,
      "outputs": [
        {
          "output_type": "stream",
          "text": [
            "Bias =  0.0 Weights =  [-1.  0.]\n",
            "predicted Value 0\n"
          ],
          "name": "stdout"
        }
      ]
    },
    {
      "cell_type": "code",
      "metadata": {
        "id": "Z3U5e_BOR1np",
        "colab_type": "code",
        "colab": {}
      },
      "source": [
        ""
      ],
      "execution_count": null,
      "outputs": []
    }
  ]
}