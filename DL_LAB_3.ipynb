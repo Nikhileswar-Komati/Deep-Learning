{
  "nbformat": 4,
  "nbformat_minor": 0,
  "metadata": {
    "colab": {
      "name": "Copy of DL-LAB-3.ipynb",
      "provenance": [],
      "authorship_tag": "ABX9TyMtybLJ59EinQ2EM7FjKjFf",
      "include_colab_link": true
    },
    "kernelspec": {
      "name": "python3",
      "display_name": "Python 3"
    }
  },
  "cells": [
    {
      "cell_type": "markdown",
      "metadata": {
        "id": "view-in-github",
        "colab_type": "text"
      },
      "source": [
        "<a href=\"https://colab.research.google.com/github/Nikhileswar-Komati/Deep-Learning/blob/master/DL_LAB_3.ipynb\" target=\"_parent\"><img src=\"https://colab.research.google.com/assets/colab-badge.svg\" alt=\"Open In Colab\"/></a>"
      ]
    },
    {
      "cell_type": "code",
      "metadata": {
        "id": "w_56-_d7U9Zj"
      },
      "source": [
        "import pandas as pd\n",
        "\n",
        "data = pd.read_csv('/content/sample_data/mnist_train_small.csv')"
      ],
      "execution_count": null,
      "outputs": []
    },
    {
      "cell_type": "code",
      "metadata": {
        "id": "8L_xTrhJVhB5",
        "outputId": "15ce17a9-0b68-4779-b5b8-f3e25c8acb8d",
        "colab": {
          "base_uri": "https://localhost:8080/",
          "height": 34
        }
      },
      "source": [
        "data.shape"
      ],
      "execution_count": null,
      "outputs": [
        {
          "output_type": "execute_result",
          "data": {
            "text/plain": [
              "(19999, 785)"
            ]
          },
          "metadata": {
            "tags": []
          },
          "execution_count": 28
        }
      ]
    },
    {
      "cell_type": "code",
      "metadata": {
        "id": "zJwL7HvQVj0Y",
        "outputId": "1c36ae03-9f9b-4fd1-b1be-5c54a4fda8ab",
        "colab": {
          "base_uri": "https://localhost:8080/",
          "height": 408
        }
      },
      "source": [
        "data.head(10)"
      ],
      "execution_count": null,
      "outputs": [
        {
          "output_type": "execute_result",
          "data": {
            "text/html": [
              "<div>\n",
              "<style scoped>\n",
              "    .dataframe tbody tr th:only-of-type {\n",
              "        vertical-align: middle;\n",
              "    }\n",
              "\n",
              "    .dataframe tbody tr th {\n",
              "        vertical-align: top;\n",
              "    }\n",
              "\n",
              "    .dataframe thead th {\n",
              "        text-align: right;\n",
              "    }\n",
              "</style>\n",
              "<table border=\"1\" class=\"dataframe\">\n",
              "  <thead>\n",
              "    <tr style=\"text-align: right;\">\n",
              "      <th></th>\n",
              "      <th>6</th>\n",
              "      <th>0</th>\n",
              "      <th>0.1</th>\n",
              "      <th>0.2</th>\n",
              "      <th>0.3</th>\n",
              "      <th>0.4</th>\n",
              "      <th>0.5</th>\n",
              "      <th>0.6</th>\n",
              "      <th>0.7</th>\n",
              "      <th>0.8</th>\n",
              "      <th>0.9</th>\n",
              "      <th>0.10</th>\n",
              "      <th>0.11</th>\n",
              "      <th>0.12</th>\n",
              "      <th>0.13</th>\n",
              "      <th>0.14</th>\n",
              "      <th>0.15</th>\n",
              "      <th>0.16</th>\n",
              "      <th>0.17</th>\n",
              "      <th>0.18</th>\n",
              "      <th>0.19</th>\n",
              "      <th>0.20</th>\n",
              "      <th>0.21</th>\n",
              "      <th>0.22</th>\n",
              "      <th>0.23</th>\n",
              "      <th>0.24</th>\n",
              "      <th>0.25</th>\n",
              "      <th>0.26</th>\n",
              "      <th>0.27</th>\n",
              "      <th>0.28</th>\n",
              "      <th>0.29</th>\n",
              "      <th>0.30</th>\n",
              "      <th>0.31</th>\n",
              "      <th>0.32</th>\n",
              "      <th>0.33</th>\n",
              "      <th>0.34</th>\n",
              "      <th>0.35</th>\n",
              "      <th>0.36</th>\n",
              "      <th>0.37</th>\n",
              "      <th>0.38</th>\n",
              "      <th>...</th>\n",
              "      <th>0.551</th>\n",
              "      <th>0.552</th>\n",
              "      <th>0.553</th>\n",
              "      <th>0.554</th>\n",
              "      <th>0.555</th>\n",
              "      <th>0.556</th>\n",
              "      <th>0.557</th>\n",
              "      <th>0.558</th>\n",
              "      <th>0.559</th>\n",
              "      <th>0.560</th>\n",
              "      <th>0.561</th>\n",
              "      <th>0.562</th>\n",
              "      <th>0.563</th>\n",
              "      <th>0.564</th>\n",
              "      <th>0.565</th>\n",
              "      <th>0.566</th>\n",
              "      <th>0.567</th>\n",
              "      <th>0.568</th>\n",
              "      <th>0.569</th>\n",
              "      <th>0.570</th>\n",
              "      <th>0.571</th>\n",
              "      <th>0.572</th>\n",
              "      <th>0.573</th>\n",
              "      <th>0.574</th>\n",
              "      <th>0.575</th>\n",
              "      <th>0.576</th>\n",
              "      <th>0.577</th>\n",
              "      <th>0.578</th>\n",
              "      <th>0.579</th>\n",
              "      <th>0.580</th>\n",
              "      <th>0.581</th>\n",
              "      <th>0.582</th>\n",
              "      <th>0.583</th>\n",
              "      <th>0.584</th>\n",
              "      <th>0.585</th>\n",
              "      <th>0.586</th>\n",
              "      <th>0.587</th>\n",
              "      <th>0.588</th>\n",
              "      <th>0.589</th>\n",
              "      <th>0.590</th>\n",
              "    </tr>\n",
              "  </thead>\n",
              "  <tbody>\n",
              "    <tr>\n",
              "      <th>0</th>\n",
              "      <td>5</td>\n",
              "      <td>0</td>\n",
              "      <td>0</td>\n",
              "      <td>0</td>\n",
              "      <td>0</td>\n",
              "      <td>0</td>\n",
              "      <td>0</td>\n",
              "      <td>0</td>\n",
              "      <td>0</td>\n",
              "      <td>0</td>\n",
              "      <td>0</td>\n",
              "      <td>0</td>\n",
              "      <td>0</td>\n",
              "      <td>0</td>\n",
              "      <td>0</td>\n",
              "      <td>0</td>\n",
              "      <td>0</td>\n",
              "      <td>0</td>\n",
              "      <td>0</td>\n",
              "      <td>0</td>\n",
              "      <td>0</td>\n",
              "      <td>0</td>\n",
              "      <td>0</td>\n",
              "      <td>0</td>\n",
              "      <td>0</td>\n",
              "      <td>0</td>\n",
              "      <td>0</td>\n",
              "      <td>0</td>\n",
              "      <td>0</td>\n",
              "      <td>0</td>\n",
              "      <td>0</td>\n",
              "      <td>0</td>\n",
              "      <td>0</td>\n",
              "      <td>0</td>\n",
              "      <td>0</td>\n",
              "      <td>0</td>\n",
              "      <td>0</td>\n",
              "      <td>0</td>\n",
              "      <td>0</td>\n",
              "      <td>0</td>\n",
              "      <td>...</td>\n",
              "      <td>0</td>\n",
              "      <td>0</td>\n",
              "      <td>0</td>\n",
              "      <td>0</td>\n",
              "      <td>0</td>\n",
              "      <td>0</td>\n",
              "      <td>0</td>\n",
              "      <td>0</td>\n",
              "      <td>0</td>\n",
              "      <td>0</td>\n",
              "      <td>0</td>\n",
              "      <td>0</td>\n",
              "      <td>0</td>\n",
              "      <td>0</td>\n",
              "      <td>0</td>\n",
              "      <td>0</td>\n",
              "      <td>0</td>\n",
              "      <td>0</td>\n",
              "      <td>0</td>\n",
              "      <td>0</td>\n",
              "      <td>0</td>\n",
              "      <td>0</td>\n",
              "      <td>0</td>\n",
              "      <td>0</td>\n",
              "      <td>0</td>\n",
              "      <td>0</td>\n",
              "      <td>0</td>\n",
              "      <td>0</td>\n",
              "      <td>0</td>\n",
              "      <td>0</td>\n",
              "      <td>0</td>\n",
              "      <td>0</td>\n",
              "      <td>0</td>\n",
              "      <td>0</td>\n",
              "      <td>0</td>\n",
              "      <td>0</td>\n",
              "      <td>0</td>\n",
              "      <td>0</td>\n",
              "      <td>0</td>\n",
              "      <td>0</td>\n",
              "    </tr>\n",
              "    <tr>\n",
              "      <th>1</th>\n",
              "      <td>7</td>\n",
              "      <td>0</td>\n",
              "      <td>0</td>\n",
              "      <td>0</td>\n",
              "      <td>0</td>\n",
              "      <td>0</td>\n",
              "      <td>0</td>\n",
              "      <td>0</td>\n",
              "      <td>0</td>\n",
              "      <td>0</td>\n",
              "      <td>0</td>\n",
              "      <td>0</td>\n",
              "      <td>0</td>\n",
              "      <td>0</td>\n",
              "      <td>0</td>\n",
              "      <td>0</td>\n",
              "      <td>0</td>\n",
              "      <td>0</td>\n",
              "      <td>0</td>\n",
              "      <td>0</td>\n",
              "      <td>0</td>\n",
              "      <td>0</td>\n",
              "      <td>0</td>\n",
              "      <td>0</td>\n",
              "      <td>0</td>\n",
              "      <td>0</td>\n",
              "      <td>0</td>\n",
              "      <td>0</td>\n",
              "      <td>0</td>\n",
              "      <td>0</td>\n",
              "      <td>0</td>\n",
              "      <td>0</td>\n",
              "      <td>0</td>\n",
              "      <td>0</td>\n",
              "      <td>0</td>\n",
              "      <td>0</td>\n",
              "      <td>0</td>\n",
              "      <td>0</td>\n",
              "      <td>0</td>\n",
              "      <td>0</td>\n",
              "      <td>...</td>\n",
              "      <td>0</td>\n",
              "      <td>0</td>\n",
              "      <td>0</td>\n",
              "      <td>0</td>\n",
              "      <td>0</td>\n",
              "      <td>0</td>\n",
              "      <td>0</td>\n",
              "      <td>0</td>\n",
              "      <td>0</td>\n",
              "      <td>0</td>\n",
              "      <td>0</td>\n",
              "      <td>0</td>\n",
              "      <td>0</td>\n",
              "      <td>0</td>\n",
              "      <td>0</td>\n",
              "      <td>0</td>\n",
              "      <td>0</td>\n",
              "      <td>0</td>\n",
              "      <td>0</td>\n",
              "      <td>0</td>\n",
              "      <td>0</td>\n",
              "      <td>0</td>\n",
              "      <td>0</td>\n",
              "      <td>0</td>\n",
              "      <td>0</td>\n",
              "      <td>0</td>\n",
              "      <td>0</td>\n",
              "      <td>0</td>\n",
              "      <td>0</td>\n",
              "      <td>0</td>\n",
              "      <td>0</td>\n",
              "      <td>0</td>\n",
              "      <td>0</td>\n",
              "      <td>0</td>\n",
              "      <td>0</td>\n",
              "      <td>0</td>\n",
              "      <td>0</td>\n",
              "      <td>0</td>\n",
              "      <td>0</td>\n",
              "      <td>0</td>\n",
              "    </tr>\n",
              "    <tr>\n",
              "      <th>2</th>\n",
              "      <td>9</td>\n",
              "      <td>0</td>\n",
              "      <td>0</td>\n",
              "      <td>0</td>\n",
              "      <td>0</td>\n",
              "      <td>0</td>\n",
              "      <td>0</td>\n",
              "      <td>0</td>\n",
              "      <td>0</td>\n",
              "      <td>0</td>\n",
              "      <td>0</td>\n",
              "      <td>0</td>\n",
              "      <td>0</td>\n",
              "      <td>0</td>\n",
              "      <td>0</td>\n",
              "      <td>0</td>\n",
              "      <td>0</td>\n",
              "      <td>0</td>\n",
              "      <td>0</td>\n",
              "      <td>0</td>\n",
              "      <td>0</td>\n",
              "      <td>0</td>\n",
              "      <td>0</td>\n",
              "      <td>0</td>\n",
              "      <td>0</td>\n",
              "      <td>0</td>\n",
              "      <td>0</td>\n",
              "      <td>0</td>\n",
              "      <td>0</td>\n",
              "      <td>0</td>\n",
              "      <td>0</td>\n",
              "      <td>0</td>\n",
              "      <td>0</td>\n",
              "      <td>0</td>\n",
              "      <td>0</td>\n",
              "      <td>0</td>\n",
              "      <td>0</td>\n",
              "      <td>0</td>\n",
              "      <td>0</td>\n",
              "      <td>0</td>\n",
              "      <td>...</td>\n",
              "      <td>15</td>\n",
              "      <td>0</td>\n",
              "      <td>0</td>\n",
              "      <td>0</td>\n",
              "      <td>0</td>\n",
              "      <td>0</td>\n",
              "      <td>0</td>\n",
              "      <td>0</td>\n",
              "      <td>0</td>\n",
              "      <td>0</td>\n",
              "      <td>0</td>\n",
              "      <td>0</td>\n",
              "      <td>0</td>\n",
              "      <td>0</td>\n",
              "      <td>0</td>\n",
              "      <td>0</td>\n",
              "      <td>0</td>\n",
              "      <td>0</td>\n",
              "      <td>0</td>\n",
              "      <td>0</td>\n",
              "      <td>0</td>\n",
              "      <td>0</td>\n",
              "      <td>0</td>\n",
              "      <td>0</td>\n",
              "      <td>0</td>\n",
              "      <td>0</td>\n",
              "      <td>0</td>\n",
              "      <td>0</td>\n",
              "      <td>0</td>\n",
              "      <td>0</td>\n",
              "      <td>0</td>\n",
              "      <td>0</td>\n",
              "      <td>0</td>\n",
              "      <td>0</td>\n",
              "      <td>0</td>\n",
              "      <td>0</td>\n",
              "      <td>0</td>\n",
              "      <td>0</td>\n",
              "      <td>0</td>\n",
              "      <td>0</td>\n",
              "    </tr>\n",
              "    <tr>\n",
              "      <th>3</th>\n",
              "      <td>5</td>\n",
              "      <td>0</td>\n",
              "      <td>0</td>\n",
              "      <td>0</td>\n",
              "      <td>0</td>\n",
              "      <td>0</td>\n",
              "      <td>0</td>\n",
              "      <td>0</td>\n",
              "      <td>0</td>\n",
              "      <td>0</td>\n",
              "      <td>0</td>\n",
              "      <td>0</td>\n",
              "      <td>0</td>\n",
              "      <td>0</td>\n",
              "      <td>0</td>\n",
              "      <td>0</td>\n",
              "      <td>0</td>\n",
              "      <td>0</td>\n",
              "      <td>0</td>\n",
              "      <td>0</td>\n",
              "      <td>0</td>\n",
              "      <td>0</td>\n",
              "      <td>0</td>\n",
              "      <td>0</td>\n",
              "      <td>0</td>\n",
              "      <td>0</td>\n",
              "      <td>0</td>\n",
              "      <td>0</td>\n",
              "      <td>0</td>\n",
              "      <td>0</td>\n",
              "      <td>0</td>\n",
              "      <td>0</td>\n",
              "      <td>0</td>\n",
              "      <td>0</td>\n",
              "      <td>0</td>\n",
              "      <td>0</td>\n",
              "      <td>0</td>\n",
              "      <td>0</td>\n",
              "      <td>0</td>\n",
              "      <td>0</td>\n",
              "      <td>...</td>\n",
              "      <td>0</td>\n",
              "      <td>0</td>\n",
              "      <td>0</td>\n",
              "      <td>0</td>\n",
              "      <td>0</td>\n",
              "      <td>0</td>\n",
              "      <td>0</td>\n",
              "      <td>0</td>\n",
              "      <td>0</td>\n",
              "      <td>0</td>\n",
              "      <td>0</td>\n",
              "      <td>0</td>\n",
              "      <td>0</td>\n",
              "      <td>0</td>\n",
              "      <td>0</td>\n",
              "      <td>0</td>\n",
              "      <td>0</td>\n",
              "      <td>0</td>\n",
              "      <td>0</td>\n",
              "      <td>0</td>\n",
              "      <td>0</td>\n",
              "      <td>0</td>\n",
              "      <td>0</td>\n",
              "      <td>0</td>\n",
              "      <td>0</td>\n",
              "      <td>0</td>\n",
              "      <td>0</td>\n",
              "      <td>0</td>\n",
              "      <td>0</td>\n",
              "      <td>0</td>\n",
              "      <td>0</td>\n",
              "      <td>0</td>\n",
              "      <td>0</td>\n",
              "      <td>0</td>\n",
              "      <td>0</td>\n",
              "      <td>0</td>\n",
              "      <td>0</td>\n",
              "      <td>0</td>\n",
              "      <td>0</td>\n",
              "      <td>0</td>\n",
              "    </tr>\n",
              "    <tr>\n",
              "      <th>4</th>\n",
              "      <td>2</td>\n",
              "      <td>0</td>\n",
              "      <td>0</td>\n",
              "      <td>0</td>\n",
              "      <td>0</td>\n",
              "      <td>0</td>\n",
              "      <td>0</td>\n",
              "      <td>0</td>\n",
              "      <td>0</td>\n",
              "      <td>0</td>\n",
              "      <td>0</td>\n",
              "      <td>0</td>\n",
              "      <td>0</td>\n",
              "      <td>0</td>\n",
              "      <td>0</td>\n",
              "      <td>0</td>\n",
              "      <td>0</td>\n",
              "      <td>0</td>\n",
              "      <td>0</td>\n",
              "      <td>0</td>\n",
              "      <td>0</td>\n",
              "      <td>0</td>\n",
              "      <td>0</td>\n",
              "      <td>0</td>\n",
              "      <td>0</td>\n",
              "      <td>0</td>\n",
              "      <td>0</td>\n",
              "      <td>0</td>\n",
              "      <td>0</td>\n",
              "      <td>0</td>\n",
              "      <td>0</td>\n",
              "      <td>0</td>\n",
              "      <td>0</td>\n",
              "      <td>0</td>\n",
              "      <td>0</td>\n",
              "      <td>0</td>\n",
              "      <td>0</td>\n",
              "      <td>0</td>\n",
              "      <td>0</td>\n",
              "      <td>0</td>\n",
              "      <td>...</td>\n",
              "      <td>0</td>\n",
              "      <td>0</td>\n",
              "      <td>0</td>\n",
              "      <td>0</td>\n",
              "      <td>0</td>\n",
              "      <td>0</td>\n",
              "      <td>0</td>\n",
              "      <td>0</td>\n",
              "      <td>0</td>\n",
              "      <td>0</td>\n",
              "      <td>0</td>\n",
              "      <td>0</td>\n",
              "      <td>0</td>\n",
              "      <td>0</td>\n",
              "      <td>0</td>\n",
              "      <td>0</td>\n",
              "      <td>0</td>\n",
              "      <td>0</td>\n",
              "      <td>0</td>\n",
              "      <td>0</td>\n",
              "      <td>0</td>\n",
              "      <td>0</td>\n",
              "      <td>0</td>\n",
              "      <td>0</td>\n",
              "      <td>0</td>\n",
              "      <td>0</td>\n",
              "      <td>0</td>\n",
              "      <td>0</td>\n",
              "      <td>0</td>\n",
              "      <td>0</td>\n",
              "      <td>0</td>\n",
              "      <td>0</td>\n",
              "      <td>0</td>\n",
              "      <td>0</td>\n",
              "      <td>0</td>\n",
              "      <td>0</td>\n",
              "      <td>0</td>\n",
              "      <td>0</td>\n",
              "      <td>0</td>\n",
              "      <td>0</td>\n",
              "    </tr>\n",
              "    <tr>\n",
              "      <th>5</th>\n",
              "      <td>0</td>\n",
              "      <td>0</td>\n",
              "      <td>0</td>\n",
              "      <td>0</td>\n",
              "      <td>0</td>\n",
              "      <td>0</td>\n",
              "      <td>0</td>\n",
              "      <td>0</td>\n",
              "      <td>0</td>\n",
              "      <td>0</td>\n",
              "      <td>0</td>\n",
              "      <td>0</td>\n",
              "      <td>0</td>\n",
              "      <td>0</td>\n",
              "      <td>0</td>\n",
              "      <td>0</td>\n",
              "      <td>0</td>\n",
              "      <td>0</td>\n",
              "      <td>0</td>\n",
              "      <td>0</td>\n",
              "      <td>0</td>\n",
              "      <td>0</td>\n",
              "      <td>0</td>\n",
              "      <td>0</td>\n",
              "      <td>0</td>\n",
              "      <td>0</td>\n",
              "      <td>0</td>\n",
              "      <td>0</td>\n",
              "      <td>0</td>\n",
              "      <td>0</td>\n",
              "      <td>0</td>\n",
              "      <td>0</td>\n",
              "      <td>0</td>\n",
              "      <td>0</td>\n",
              "      <td>0</td>\n",
              "      <td>0</td>\n",
              "      <td>0</td>\n",
              "      <td>0</td>\n",
              "      <td>0</td>\n",
              "      <td>0</td>\n",
              "      <td>...</td>\n",
              "      <td>0</td>\n",
              "      <td>0</td>\n",
              "      <td>0</td>\n",
              "      <td>0</td>\n",
              "      <td>0</td>\n",
              "      <td>0</td>\n",
              "      <td>0</td>\n",
              "      <td>0</td>\n",
              "      <td>0</td>\n",
              "      <td>0</td>\n",
              "      <td>0</td>\n",
              "      <td>0</td>\n",
              "      <td>0</td>\n",
              "      <td>0</td>\n",
              "      <td>0</td>\n",
              "      <td>0</td>\n",
              "      <td>0</td>\n",
              "      <td>0</td>\n",
              "      <td>0</td>\n",
              "      <td>0</td>\n",
              "      <td>0</td>\n",
              "      <td>0</td>\n",
              "      <td>0</td>\n",
              "      <td>0</td>\n",
              "      <td>0</td>\n",
              "      <td>0</td>\n",
              "      <td>0</td>\n",
              "      <td>0</td>\n",
              "      <td>0</td>\n",
              "      <td>0</td>\n",
              "      <td>0</td>\n",
              "      <td>0</td>\n",
              "      <td>0</td>\n",
              "      <td>0</td>\n",
              "      <td>0</td>\n",
              "      <td>0</td>\n",
              "      <td>0</td>\n",
              "      <td>0</td>\n",
              "      <td>0</td>\n",
              "      <td>0</td>\n",
              "    </tr>\n",
              "    <tr>\n",
              "      <th>6</th>\n",
              "      <td>6</td>\n",
              "      <td>0</td>\n",
              "      <td>0</td>\n",
              "      <td>0</td>\n",
              "      <td>0</td>\n",
              "      <td>0</td>\n",
              "      <td>0</td>\n",
              "      <td>0</td>\n",
              "      <td>0</td>\n",
              "      <td>0</td>\n",
              "      <td>0</td>\n",
              "      <td>0</td>\n",
              "      <td>0</td>\n",
              "      <td>0</td>\n",
              "      <td>0</td>\n",
              "      <td>0</td>\n",
              "      <td>0</td>\n",
              "      <td>0</td>\n",
              "      <td>0</td>\n",
              "      <td>0</td>\n",
              "      <td>0</td>\n",
              "      <td>0</td>\n",
              "      <td>0</td>\n",
              "      <td>0</td>\n",
              "      <td>0</td>\n",
              "      <td>0</td>\n",
              "      <td>0</td>\n",
              "      <td>0</td>\n",
              "      <td>0</td>\n",
              "      <td>0</td>\n",
              "      <td>0</td>\n",
              "      <td>0</td>\n",
              "      <td>0</td>\n",
              "      <td>0</td>\n",
              "      <td>0</td>\n",
              "      <td>0</td>\n",
              "      <td>0</td>\n",
              "      <td>0</td>\n",
              "      <td>0</td>\n",
              "      <td>0</td>\n",
              "      <td>...</td>\n",
              "      <td>0</td>\n",
              "      <td>0</td>\n",
              "      <td>0</td>\n",
              "      <td>0</td>\n",
              "      <td>0</td>\n",
              "      <td>0</td>\n",
              "      <td>0</td>\n",
              "      <td>0</td>\n",
              "      <td>0</td>\n",
              "      <td>0</td>\n",
              "      <td>0</td>\n",
              "      <td>0</td>\n",
              "      <td>0</td>\n",
              "      <td>0</td>\n",
              "      <td>0</td>\n",
              "      <td>0</td>\n",
              "      <td>0</td>\n",
              "      <td>0</td>\n",
              "      <td>0</td>\n",
              "      <td>0</td>\n",
              "      <td>0</td>\n",
              "      <td>0</td>\n",
              "      <td>0</td>\n",
              "      <td>0</td>\n",
              "      <td>0</td>\n",
              "      <td>0</td>\n",
              "      <td>0</td>\n",
              "      <td>0</td>\n",
              "      <td>0</td>\n",
              "      <td>0</td>\n",
              "      <td>0</td>\n",
              "      <td>0</td>\n",
              "      <td>0</td>\n",
              "      <td>0</td>\n",
              "      <td>0</td>\n",
              "      <td>0</td>\n",
              "      <td>0</td>\n",
              "      <td>0</td>\n",
              "      <td>0</td>\n",
              "      <td>0</td>\n",
              "    </tr>\n",
              "    <tr>\n",
              "      <th>7</th>\n",
              "      <td>5</td>\n",
              "      <td>0</td>\n",
              "      <td>0</td>\n",
              "      <td>0</td>\n",
              "      <td>0</td>\n",
              "      <td>0</td>\n",
              "      <td>0</td>\n",
              "      <td>0</td>\n",
              "      <td>0</td>\n",
              "      <td>0</td>\n",
              "      <td>0</td>\n",
              "      <td>0</td>\n",
              "      <td>0</td>\n",
              "      <td>0</td>\n",
              "      <td>0</td>\n",
              "      <td>0</td>\n",
              "      <td>0</td>\n",
              "      <td>0</td>\n",
              "      <td>0</td>\n",
              "      <td>0</td>\n",
              "      <td>0</td>\n",
              "      <td>0</td>\n",
              "      <td>0</td>\n",
              "      <td>0</td>\n",
              "      <td>0</td>\n",
              "      <td>0</td>\n",
              "      <td>0</td>\n",
              "      <td>0</td>\n",
              "      <td>0</td>\n",
              "      <td>0</td>\n",
              "      <td>0</td>\n",
              "      <td>0</td>\n",
              "      <td>0</td>\n",
              "      <td>0</td>\n",
              "      <td>0</td>\n",
              "      <td>0</td>\n",
              "      <td>0</td>\n",
              "      <td>0</td>\n",
              "      <td>0</td>\n",
              "      <td>0</td>\n",
              "      <td>...</td>\n",
              "      <td>0</td>\n",
              "      <td>0</td>\n",
              "      <td>0</td>\n",
              "      <td>0</td>\n",
              "      <td>0</td>\n",
              "      <td>0</td>\n",
              "      <td>0</td>\n",
              "      <td>0</td>\n",
              "      <td>0</td>\n",
              "      <td>0</td>\n",
              "      <td>0</td>\n",
              "      <td>0</td>\n",
              "      <td>0</td>\n",
              "      <td>0</td>\n",
              "      <td>0</td>\n",
              "      <td>0</td>\n",
              "      <td>0</td>\n",
              "      <td>0</td>\n",
              "      <td>0</td>\n",
              "      <td>0</td>\n",
              "      <td>0</td>\n",
              "      <td>0</td>\n",
              "      <td>0</td>\n",
              "      <td>0</td>\n",
              "      <td>0</td>\n",
              "      <td>0</td>\n",
              "      <td>0</td>\n",
              "      <td>0</td>\n",
              "      <td>0</td>\n",
              "      <td>0</td>\n",
              "      <td>0</td>\n",
              "      <td>0</td>\n",
              "      <td>0</td>\n",
              "      <td>0</td>\n",
              "      <td>0</td>\n",
              "      <td>0</td>\n",
              "      <td>0</td>\n",
              "      <td>0</td>\n",
              "      <td>0</td>\n",
              "      <td>0</td>\n",
              "    </tr>\n",
              "    <tr>\n",
              "      <th>8</th>\n",
              "      <td>5</td>\n",
              "      <td>0</td>\n",
              "      <td>0</td>\n",
              "      <td>0</td>\n",
              "      <td>0</td>\n",
              "      <td>0</td>\n",
              "      <td>0</td>\n",
              "      <td>0</td>\n",
              "      <td>0</td>\n",
              "      <td>0</td>\n",
              "      <td>0</td>\n",
              "      <td>0</td>\n",
              "      <td>0</td>\n",
              "      <td>0</td>\n",
              "      <td>0</td>\n",
              "      <td>0</td>\n",
              "      <td>0</td>\n",
              "      <td>0</td>\n",
              "      <td>0</td>\n",
              "      <td>0</td>\n",
              "      <td>0</td>\n",
              "      <td>0</td>\n",
              "      <td>0</td>\n",
              "      <td>0</td>\n",
              "      <td>0</td>\n",
              "      <td>0</td>\n",
              "      <td>0</td>\n",
              "      <td>0</td>\n",
              "      <td>0</td>\n",
              "      <td>0</td>\n",
              "      <td>0</td>\n",
              "      <td>0</td>\n",
              "      <td>0</td>\n",
              "      <td>0</td>\n",
              "      <td>0</td>\n",
              "      <td>0</td>\n",
              "      <td>0</td>\n",
              "      <td>0</td>\n",
              "      <td>0</td>\n",
              "      <td>0</td>\n",
              "      <td>...</td>\n",
              "      <td>0</td>\n",
              "      <td>0</td>\n",
              "      <td>0</td>\n",
              "      <td>0</td>\n",
              "      <td>0</td>\n",
              "      <td>0</td>\n",
              "      <td>0</td>\n",
              "      <td>0</td>\n",
              "      <td>0</td>\n",
              "      <td>0</td>\n",
              "      <td>0</td>\n",
              "      <td>0</td>\n",
              "      <td>0</td>\n",
              "      <td>0</td>\n",
              "      <td>0</td>\n",
              "      <td>0</td>\n",
              "      <td>0</td>\n",
              "      <td>0</td>\n",
              "      <td>0</td>\n",
              "      <td>0</td>\n",
              "      <td>0</td>\n",
              "      <td>0</td>\n",
              "      <td>0</td>\n",
              "      <td>0</td>\n",
              "      <td>0</td>\n",
              "      <td>0</td>\n",
              "      <td>0</td>\n",
              "      <td>0</td>\n",
              "      <td>0</td>\n",
              "      <td>0</td>\n",
              "      <td>0</td>\n",
              "      <td>0</td>\n",
              "      <td>0</td>\n",
              "      <td>0</td>\n",
              "      <td>0</td>\n",
              "      <td>0</td>\n",
              "      <td>0</td>\n",
              "      <td>0</td>\n",
              "      <td>0</td>\n",
              "      <td>0</td>\n",
              "    </tr>\n",
              "    <tr>\n",
              "      <th>9</th>\n",
              "      <td>2</td>\n",
              "      <td>0</td>\n",
              "      <td>0</td>\n",
              "      <td>0</td>\n",
              "      <td>0</td>\n",
              "      <td>0</td>\n",
              "      <td>0</td>\n",
              "      <td>0</td>\n",
              "      <td>0</td>\n",
              "      <td>0</td>\n",
              "      <td>0</td>\n",
              "      <td>0</td>\n",
              "      <td>0</td>\n",
              "      <td>0</td>\n",
              "      <td>0</td>\n",
              "      <td>0</td>\n",
              "      <td>0</td>\n",
              "      <td>0</td>\n",
              "      <td>0</td>\n",
              "      <td>0</td>\n",
              "      <td>0</td>\n",
              "      <td>0</td>\n",
              "      <td>0</td>\n",
              "      <td>0</td>\n",
              "      <td>0</td>\n",
              "      <td>0</td>\n",
              "      <td>0</td>\n",
              "      <td>0</td>\n",
              "      <td>0</td>\n",
              "      <td>0</td>\n",
              "      <td>0</td>\n",
              "      <td>0</td>\n",
              "      <td>0</td>\n",
              "      <td>0</td>\n",
              "      <td>0</td>\n",
              "      <td>0</td>\n",
              "      <td>0</td>\n",
              "      <td>0</td>\n",
              "      <td>0</td>\n",
              "      <td>0</td>\n",
              "      <td>...</td>\n",
              "      <td>0</td>\n",
              "      <td>0</td>\n",
              "      <td>0</td>\n",
              "      <td>0</td>\n",
              "      <td>0</td>\n",
              "      <td>0</td>\n",
              "      <td>0</td>\n",
              "      <td>0</td>\n",
              "      <td>0</td>\n",
              "      <td>0</td>\n",
              "      <td>0</td>\n",
              "      <td>0</td>\n",
              "      <td>0</td>\n",
              "      <td>0</td>\n",
              "      <td>0</td>\n",
              "      <td>0</td>\n",
              "      <td>0</td>\n",
              "      <td>0</td>\n",
              "      <td>0</td>\n",
              "      <td>0</td>\n",
              "      <td>0</td>\n",
              "      <td>0</td>\n",
              "      <td>0</td>\n",
              "      <td>0</td>\n",
              "      <td>0</td>\n",
              "      <td>0</td>\n",
              "      <td>0</td>\n",
              "      <td>0</td>\n",
              "      <td>0</td>\n",
              "      <td>0</td>\n",
              "      <td>0</td>\n",
              "      <td>0</td>\n",
              "      <td>0</td>\n",
              "      <td>0</td>\n",
              "      <td>0</td>\n",
              "      <td>0</td>\n",
              "      <td>0</td>\n",
              "      <td>0</td>\n",
              "      <td>0</td>\n",
              "      <td>0</td>\n",
              "    </tr>\n",
              "  </tbody>\n",
              "</table>\n",
              "<p>10 rows × 785 columns</p>\n",
              "</div>"
            ],
            "text/plain": [
              "   6  0  0.1  0.2  0.3  0.4  ...  0.585  0.586  0.587  0.588  0.589  0.590\n",
              "0  5  0    0    0    0    0  ...      0      0      0      0      0      0\n",
              "1  7  0    0    0    0    0  ...      0      0      0      0      0      0\n",
              "2  9  0    0    0    0    0  ...      0      0      0      0      0      0\n",
              "3  5  0    0    0    0    0  ...      0      0      0      0      0      0\n",
              "4  2  0    0    0    0    0  ...      0      0      0      0      0      0\n",
              "5  0  0    0    0    0    0  ...      0      0      0      0      0      0\n",
              "6  6  0    0    0    0    0  ...      0      0      0      0      0      0\n",
              "7  5  0    0    0    0    0  ...      0      0      0      0      0      0\n",
              "8  5  0    0    0    0    0  ...      0      0      0      0      0      0\n",
              "9  2  0    0    0    0    0  ...      0      0      0      0      0      0\n",
              "\n",
              "[10 rows x 785 columns]"
            ]
          },
          "metadata": {
            "tags": []
          },
          "execution_count": 95
        }
      ]
    },
    {
      "cell_type": "code",
      "metadata": {
        "id": "t1zSjvLAVvM7"
      },
      "source": [
        "import matplotlib.pyplot as plt\n",
        "\n",
        "import numpy as np \n",
        "import matplotlib.pyplot as plt\n",
        "plt.figure(figsize=(20,4))\n",
        "for index, (image, label) in enumerate(zip(digits.data[0:5], digits.target[0:5])):\n",
        " plt.subplot(1, 5, index + 1)\n",
        " plt.imshow(np.reshape(image, (8,8)), cmap=plt.cm.gray)\n",
        " plt.title('Training: %i\\n' % label, fontsize = 20)"
      ],
      "execution_count": null,
      "outputs": []
    },
    {
      "cell_type": "code",
      "metadata": {
        "id": "iK3gmHwJXIRH"
      },
      "source": [
        "from sklearn.datasets import load_digits\n",
        "digits = load_digits()\n",
        "data = digits.data\n",
        "target = digits.target"
      ],
      "execution_count": null,
      "outputs": []
    },
    {
      "cell_type": "code",
      "metadata": {
        "id": "aA4UkHUlXbvI",
        "outputId": "79ccc207-fd38-4d8e-cae7-32a3b0a06403",
        "colab": {
          "base_uri": "https://localhost:8080/",
          "height": 34
        }
      },
      "source": [
        "data.shape"
      ],
      "execution_count": null,
      "outputs": [
        {
          "output_type": "execute_result",
          "data": {
            "text/plain": [
              "(1797, 64)"
            ]
          },
          "metadata": {
            "tags": []
          },
          "execution_count": 10
        }
      ]
    },
    {
      "cell_type": "code",
      "metadata": {
        "id": "Vf_d8iagXdNB",
        "outputId": "06cff7ac-9cb9-4d16-bb4a-16597bc8e126",
        "colab": {
          "base_uri": "https://localhost:8080/",
          "height": 34
        }
      },
      "source": [
        "set(list(target))"
      ],
      "execution_count": null,
      "outputs": [
        {
          "output_type": "execute_result",
          "data": {
            "text/plain": [
              "{0, 1, 2, 3, 4, 5, 6, 7, 8, 9}"
            ]
          },
          "metadata": {
            "tags": []
          },
          "execution_count": 13
        }
      ]
    },
    {
      "cell_type": "code",
      "metadata": {
        "id": "9boJDm_lXotM",
        "outputId": "78f2e4ac-dac4-44b3-8d87-954f94c52202",
        "colab": {
          "base_uri": "https://localhost:8080/",
          "height": 102
        }
      },
      "source": [
        "data[0]"
      ],
      "execution_count": null,
      "outputs": [
        {
          "output_type": "execute_result",
          "data": {
            "text/plain": [
              "array([ 0.,  0.,  5., 13.,  9.,  1.,  0.,  0.,  0.,  0., 13., 15., 10.,\n",
              "       15.,  5.,  0.,  0.,  3., 15.,  2.,  0., 11.,  8.,  0.,  0.,  4.,\n",
              "       12.,  0.,  0.,  8.,  8.,  0.,  0.,  5.,  8.,  0.,  0.,  9.,  8.,\n",
              "        0.,  0.,  4., 11.,  0.,  1., 12.,  7.,  0.,  0.,  2., 14.,  5.,\n",
              "       10., 12.,  0.,  0.,  0.,  0.,  6., 13., 10.,  0.,  0.,  0.])"
            ]
          },
          "metadata": {
            "tags": []
          },
          "execution_count": 14
        }
      ]
    },
    {
      "cell_type": "code",
      "metadata": {
        "id": "bGEnL0B5X4xf",
        "outputId": "268f1614-5971-45fb-9a77-73243629b23d",
        "colab": {
          "base_uri": "https://localhost:8080/",
          "height": 34
        }
      },
      "source": [
        "len(data[0])"
      ],
      "execution_count": null,
      "outputs": [
        {
          "output_type": "execute_result",
          "data": {
            "text/plain": [
              "64"
            ]
          },
          "metadata": {
            "tags": []
          },
          "execution_count": 15
        }
      ]
    },
    {
      "cell_type": "code",
      "metadata": {
        "id": "_Rs-fpILYAfY",
        "outputId": "dcc679bd-e2c6-40af-b000-d38f3a5b24d3",
        "colab": {
          "base_uri": "https://localhost:8080/",
          "height": 34
        }
      },
      "source": [
        "target[0]"
      ],
      "execution_count": null,
      "outputs": [
        {
          "output_type": "execute_result",
          "data": {
            "text/plain": [
              "0"
            ]
          },
          "metadata": {
            "tags": []
          },
          "execution_count": 16
        }
      ]
    },
    {
      "cell_type": "code",
      "metadata": {
        "id": "ABZI-hNOYMs3",
        "outputId": "26e5566b-8d42-4c12-fa8e-a6fef0db0643",
        "colab": {
          "base_uri": "https://localhost:8080/",
          "height": 282
        }
      },
      "source": [
        "import matplotlib.pyplot as plt\n",
        "import numpy as np\n",
        "plt.imshow(np.reshape(x_train[36], (8, 8)))\n",
        "print(y_train[36])"
      ],
      "execution_count": null,
      "outputs": [
        {
          "output_type": "stream",
          "text": [
            "3\n"
          ],
          "name": "stdout"
        },
        {
          "output_type": "display_data",
          "data": {
            "image/png": "[encoded data removed]",
            "text/plain": [
              "<Figure size 432x288 with 1 Axes>"
            ]
          },
          "metadata": {
            "tags": [],
            "needs_background": "light"
          }
        }
      ]
    },
    {
      "cell_type": "code",
      "metadata": {
        "id": "keQsJ4pzYtFU"
      },
      "source": [
        "from sklearn.model_selection import train_test_split\n",
        "x_train, x_test, y_train, y_test = train_test_split(digits.data, digits.target, test_size=0.25, random_state=0)"
      ],
      "execution_count": null,
      "outputs": []
    },
    {
      "cell_type": "code",
      "metadata": {
        "id": "3ufAusehbV9i",
        "outputId": "f5e71ef8-0955-4eb3-82d3-1baa22c7a528",
        "colab": {
          "base_uri": "https://localhost:8080/",
          "height": 34
        }
      },
      "source": [
        "x_train.shape"
      ],
      "execution_count": null,
      "outputs": [
        {
          "output_type": "execute_result",
          "data": {
            "text/plain": [
              "(1347, 64)"
            ]
          },
          "metadata": {
            "tags": []
          },
          "execution_count": 36
        }
      ]
    },
    {
      "cell_type": "code",
      "metadata": {
        "id": "JqeEeJsqbrXX",
        "outputId": "f3732d6a-3af3-4817-84bc-8adf0cb95a8b",
        "colab": {
          "base_uri": "https://localhost:8080/",
          "height": 34
        }
      },
      "source": [
        "x_test.shape"
      ],
      "execution_count": null,
      "outputs": [
        {
          "output_type": "execute_result",
          "data": {
            "text/plain": [
              "(450, 64)"
            ]
          },
          "metadata": {
            "tags": []
          },
          "execution_count": 37
        }
      ]
    },
    {
      "cell_type": "code",
      "metadata": {
        "id": "nmwZCbjfb0vI",
        "outputId": "9facc293-218e-47c5-95e4-22991e1afc93",
        "colab": {
          "base_uri": "https://localhost:8080/",
          "height": 34
        }
      },
      "source": [
        "print(y_train.shape, y_test.shape)"
      ],
      "execution_count": null,
      "outputs": [
        {
          "output_type": "stream",
          "text": [
            "(1347,) (450,)\n"
          ],
          "name": "stdout"
        }
      ]
    },
    {
      "cell_type": "code",
      "metadata": {
        "id": "RlNV30dhb6Md",
        "outputId": "7fe89c60-3b65-4fc6-a994-ad55962519bb",
        "colab": {
          "base_uri": "https://localhost:8080/",
          "height": 102
        }
      },
      "source": [
        "from sklearn.linear_model import LogisticRegression\n",
        "\n",
        "clf = LogisticRegression(solver = 'newton-cg', max_iter=10000)\n",
        "\n",
        "#train\n",
        "clf.fit(x_train, y_train)"
      ],
      "execution_count": null,
      "outputs": [
        {
          "output_type": "execute_result",
          "data": {
            "text/plain": [
              "LogisticRegression(C=1.0, class_weight=None, dual=False, fit_intercept=True,\n",
              "                   intercept_scaling=1, l1_ratio=None, max_iter=10000,\n",
              "                   multi_class='auto', n_jobs=None, penalty='l2',\n",
              "                   random_state=None, solver='newton-cg', tol=0.0001, verbose=0,\n",
              "                   warm_start=False)"
            ]
          },
          "metadata": {
            "tags": []
          },
          "execution_count": 103
        }
      ]
    },
    {
      "cell_type": "code",
      "metadata": {
        "id": "kylpisGgc54Y"
      },
      "source": [
        "predicted = clf.predict(x_test)"
      ],
      "execution_count": null,
      "outputs": []
    },
    {
      "cell_type": "code",
      "metadata": {
        "id": "Dh_pkFIneg2c",
        "outputId": "0f23b2e9-c3aa-446b-fa87-b7d4416cacd4",
        "colab": {
          "base_uri": "https://localhost:8080/",
          "height": 374
        }
      },
      "source": [
        "predicted"
      ],
      "execution_count": null,
      "outputs": [
        {
          "output_type": "execute_result",
          "data": {
            "text/plain": [
              "array([2, 8, 2, 6, 6, 7, 1, 9, 8, 5, 2, 8, 6, 6, 6, 6, 1, 0, 5, 8, 8, 7,\n",
              "       8, 4, 7, 5, 4, 9, 2, 9, 4, 7, 6, 8, 9, 4, 3, 1, 0, 1, 8, 6, 7, 7,\n",
              "       1, 0, 7, 6, 2, 1, 9, 6, 7, 9, 0, 0, 9, 1, 6, 3, 0, 2, 3, 4, 1, 9,\n",
              "       2, 6, 9, 1, 8, 3, 5, 1, 2, 8, 2, 2, 9, 7, 2, 3, 6, 0, 5, 3, 7, 5,\n",
              "       1, 2, 8, 9, 3, 1, 4, 7, 4, 8, 5, 8, 5, 5, 2, 5, 9, 0, 7, 1, 4, 7,\n",
              "       3, 4, 8, 9, 7, 9, 8, 2, 1, 5, 2, 5, 6, 4, 1, 7, 0, 6, 1, 5, 5, 9,\n",
              "       9, 5, 9, 9, 5, 7, 5, 6, 2, 8, 6, 9, 6, 1, 5, 1, 5, 9, 9, 1, 5, 3,\n",
              "       6, 1, 8, 9, 8, 7, 6, 7, 6, 5, 6, 0, 8, 8, 9, 8, 6, 1, 0, 4, 1, 6,\n",
              "       3, 8, 6, 7, 4, 9, 6, 3, 0, 3, 3, 3, 0, 7, 7, 5, 7, 8, 0, 7, 1, 9,\n",
              "       6, 4, 5, 0, 1, 4, 6, 4, 3, 3, 0, 9, 5, 9, 2, 8, 4, 2, 1, 6, 8, 9,\n",
              "       2, 4, 9, 3, 7, 6, 2, 3, 3, 1, 6, 9, 3, 6, 3, 3, 2, 0, 7, 6, 1, 1,\n",
              "       9, 7, 2, 7, 8, 5, 5, 7, 5, 3, 3, 7, 2, 7, 5, 5, 7, 0, 9, 1, 6, 5,\n",
              "       9, 7, 4, 3, 8, 0, 3, 6, 4, 6, 3, 2, 6, 8, 8, 8, 4, 6, 7, 5, 2, 4,\n",
              "       5, 3, 2, 4, 6, 9, 4, 5, 4, 3, 4, 6, 2, 9, 0, 1, 7, 2, 0, 9, 6, 0,\n",
              "       4, 2, 0, 7, 9, 8, 5, 7, 8, 2, 8, 4, 3, 7, 2, 6, 9, 9, 5, 1, 0, 8,\n",
              "       2, 8, 9, 5, 6, 2, 2, 7, 2, 1, 5, 1, 6, 4, 5, 0, 9, 4, 1, 1, 7, 0,\n",
              "       8, 9, 0, 5, 4, 3, 8, 8, 6, 5, 3, 4, 4, 4, 8, 8, 7, 0, 9, 6, 3, 5,\n",
              "       2, 3, 0, 8, 8, 3, 1, 3, 3, 0, 0, 4, 6, 0, 7, 7, 6, 2, 0, 4, 4, 2,\n",
              "       3, 7, 1, 9, 8, 6, 8, 5, 6, 2, 2, 3, 1, 7, 7, 8, 0, 3, 3, 2, 1, 5,\n",
              "       5, 9, 1, 3, 7, 0, 0, 3, 0, 4, 5, 8, 3, 3, 4, 3, 1, 8, 9, 8, 3, 6,\n",
              "       3, 1, 6, 2, 1, 7, 5, 5, 1, 9])"
            ]
          },
          "metadata": {
            "tags": []
          },
          "execution_count": 105
        }
      ]
    },
    {
      "cell_type": "code",
      "metadata": {
        "id": "bP4pC99EdB2x",
        "outputId": "f0b622b5-5007-4427-dabb-a6250e3429b9",
        "colab": {
          "base_uri": "https://localhost:8080/",
          "height": 34
        }
      },
      "source": [
        "from sklearn.metrics import accuracy_score\n",
        "print(accuracy_score(predicted, y_test))"
      ],
      "execution_count": null,
      "outputs": [
        {
          "output_type": "stream",
          "text": [
            "0.9533333333333334\n"
          ],
          "name": "stdout"
        }
      ]
    },
    {
      "cell_type": "code",
      "metadata": {
        "id": "7NbaSudMdK3o",
        "outputId": "890f42b6-c37f-4332-b10b-f0b7f02ee8bc",
        "colab": {
          "base_uri": "https://localhost:8080/",
          "height": 425
        }
      },
      "source": [
        "count = 0\n",
        "for indx in range(450):\n",
        "  if predicted[indx] != y_test[indx]:\n",
        "    count += 1\n",
        "    print(predicted[indx], y_test[indx], indx)\n",
        "print()\n",
        "print(\"Count\", count)"
      ],
      "execution_count": null,
      "outputs": [
        {
          "output_type": "stream",
          "text": [
            "9 5 56\n",
            "4 7 94\n",
            "1 6 118\n",
            "1 8 124\n",
            "5 9 130\n",
            "9 8 169\n",
            "9 5 181\n",
            "1 8 196\n",
            "8 1 213\n",
            "3 2 235\n",
            "3 2 251\n",
            "7 4 315\n",
            "9 1 325\n",
            "8 1 331\n",
            "2 8 335\n",
            "8 3 378\n",
            "1 8 398\n",
            "1 2 415\n",
            "3 7 425\n",
            "8 9 429\n",
            "9 3 430\n",
            "3 2 440\n",
            "\n",
            "Count 22\n"
          ],
          "name": "stdout"
        }
      ]
    },
    {
      "cell_type": "code",
      "metadata": {
        "id": "Qzyi_0o5eq9J",
        "outputId": "2a104fe7-2930-4db9-fd57-9cb180b7929c",
        "colab": {
          "base_uri": "https://localhost:8080/",
          "height": 34
        }
      },
      "source": [
        "(450 - 22)/450"
      ],
      "execution_count": null,
      "outputs": [
        {
          "output_type": "execute_result",
          "data": {
            "text/plain": [
              "0.9511111111111111"
            ]
          },
          "metadata": {
            "tags": []
          },
          "execution_count": 83
        }
      ]
    },
    {
      "cell_type": "code",
      "metadata": {
        "id": "x5ihR1G0fdfh",
        "outputId": "bf8cc81a-ad2d-43c5-dad9-41924b62d687",
        "colab": {
          "base_uri": "https://localhost:8080/",
          "height": 1000
        }
      },
      "source": [
        "clf.coef_"
      ],
      "execution_count": null,
      "outputs": [
        {
          "output_type": "execute_result",
          "data": {
            "text/plain": [
              "array([[ 0.00000000e+00, -6.04957953e-03, -4.57402748e-02,\n",
              "         8.19628864e-02,  4.48627763e-02, -1.10397598e-01,\n",
              "        -1.21402328e-01, -1.09136287e-02, -8.49036816e-05,\n",
              "        -4.28178920e-02, -2.27171458e-02,  1.49282216e-01,\n",
              "         8.26728795e-02,  7.75545349e-02, -4.62076235e-02,\n",
              "        -8.56271647e-03, -2.30771575e-05,  5.51809401e-02,\n",
              "         1.35284346e-01, -2.93341902e-02, -3.23788542e-01,\n",
              "         1.95645770e-01,  8.66471460e-02, -1.65865524e-03,\n",
              "        -1.14209853e-05,  1.06611322e-01,  1.31276797e-01,\n",
              "        -1.57705709e-01, -4.80291590e-01,  1.90151724e-02,\n",
              "         9.83696896e-02, -2.41796700e-04,  0.00000000e+00,\n",
              "         1.21404741e-01,  1.00122012e-01, -1.26908679e-01,\n",
              "        -3.51089624e-01,  3.15775821e-02,  6.00650120e-02,\n",
              "         0.00000000e+00, -5.85674093e-04, -5.72302198e-02,\n",
              "         2.26379750e-01, -9.57213036e-02, -1.73782591e-01,\n",
              "         1.21334033e-01,  3.19244749e-02, -4.81411692e-04,\n",
              "        -1.91113849e-03, -9.23368079e-02,  7.97110810e-02,\n",
              "        -4.32799710e-02,  1.60372789e-01,  8.79531263e-02,\n",
              "        -3.41122283e-02, -7.75449410e-03, -1.39154350e-05,\n",
              "        -1.00251948e-02, -7.69820730e-02,  1.65498703e-01,\n",
              "        -3.74215732e-02, -5.31454280e-02, -8.02530448e-02,\n",
              "        -3.72790588e-02],\n",
              "       [ 0.00000000e+00, -1.64873185e-02, -7.29385735e-02,\n",
              "        -2.68659533e-02, -7.77475290e-01,  3.98126190e-01,\n",
              "         1.69911507e-01, -7.83505205e-03, -5.78173107e-04,\n",
              "        -2.33115096e-01, -4.09931286e-01, -3.24458432e-01,\n",
              "         2.37461924e-01, -2.18902535e-01, -3.17153593e-01,\n",
              "        -8.73608635e-03, -2.75366813e-04,  2.01142343e-01,\n",
              "         2.18669370e-02,  5.51459330e-01,  3.09485412e-01,\n",
              "        -1.35856144e-01,  4.13424403e-02, -2.68530773e-03,\n",
              "        -1.55940683e-02, -1.33218816e-01, -1.99736380e-02,\n",
              "         2.82299542e-02,  2.56090235e-01,  1.34498264e-01,\n",
              "        -1.14989514e-01, -4.59414734e-05,  0.00000000e+00,\n",
              "         1.82573917e-01,  3.52248324e-02, -1.69703614e-01,\n",
              "         9.99798919e-02,  6.37200279e-02, -1.53945931e-01,\n",
              "         0.00000000e+00, -1.63550817e-04, -2.59582876e-01,\n",
              "         5.54015071e-02,  3.22495398e-01,  5.71262357e-02,\n",
              "        -2.07054494e-01, -2.64230270e-01, -3.73532659e-02,\n",
              "        -1.57551776e-03, -7.30896081e-02,  4.55311017e-03,\n",
              "         1.57653919e-01,  2.40225708e-01,  4.44692290e-02,\n",
              "        -1.16425556e-01,  6.53784416e-02, -4.79319887e-04,\n",
              "         6.92128412e-03, -1.83633488e-01,  9.94129274e-02,\n",
              "         1.09937294e-01,  8.90122652e-02,  1.39028878e-01,\n",
              "         2.19818897e-01],\n",
              "       [ 0.00000000e+00,  2.79609240e-02,  7.79960415e-02,\n",
              "         4.27713588e-02, -6.94996384e-02, -2.46872849e-03,\n",
              "         1.35657655e-02, -2.10681048e-03, -1.31281410e-02,\n",
              "         8.47615009e-02,  7.28838958e-02, -1.41612322e-01,\n",
              "         2.41263594e-01, -2.94053174e-02,  1.04113261e-01,\n",
              "        -2.32021447e-03, -6.52257305e-03, -4.49161940e-02,\n",
              "        -9.22445203e-02, -2.55966325e-01,  2.07892246e-01,\n",
              "         3.75413887e-02,  1.36168486e-01, -7.25972850e-04,\n",
              "        -1.17071728e-05, -1.32635232e-01, -3.48643659e-01,\n",
              "        -3.55669279e-01, -8.11606997e-02, -7.98117588e-03,\n",
              "         3.46213655e-02, -2.28409788e-05,  0.00000000e+00,\n",
              "        -1.07585775e-01, -2.39793825e-01, -1.05177052e-01,\n",
              "        -1.61203975e-02, -2.08185066e-01, -1.69972065e-01,\n",
              "         0.00000000e+00, -1.48459988e-04,  9.65350106e-02,\n",
              "         8.69362058e-02,  3.73265203e-01, -1.81411578e-01,\n",
              "        -4.28142477e-01, -1.39403340e-01,  7.22822257e-03,\n",
              "         3.32931523e-03,  1.57678768e-01,  8.63491801e-02,\n",
              "         3.43031535e-01,  2.71003103e-01,  2.74699061e-01,\n",
              "         1.05555026e-01,  8.95950422e-02,  1.14801175e-03,\n",
              "         5.45183000e-02,  9.03869054e-02,  2.68754491e-03,\n",
              "         6.19531251e-02,  2.53405560e-01,  3.34516155e-01,\n",
              "         1.78338031e-01],\n",
              "       [ 0.00000000e+00,  8.54348177e-02, -1.01755239e-01,\n",
              "         1.30911887e-01,  4.13295444e-01,  1.42606975e-01,\n",
              "        -6.97447395e-02, -4.16314337e-03, -9.67302919e-03,\n",
              "         1.46024894e-01,  6.45920246e-02,  6.25712833e-02,\n",
              "         1.33357226e-01,  2.12818442e-01,  1.19151079e-01,\n",
              "        -8.03397045e-03, -5.13703312e-04, -1.83673604e-02,\n",
              "        -3.34173652e-01, -4.07114379e-01,  5.36741379e-02,\n",
              "        -2.89908034e-01,  9.84007944e-02, -1.62320033e-03,\n",
              "        -1.14244836e-05, -1.23155200e-01, -4.54070538e-01,\n",
              "        -2.31120621e-02,  2.27923078e-01, -3.62378468e-01,\n",
              "        -2.42775573e-01, -2.28506999e-05,  0.00000000e+00,\n",
              "        -5.03128716e-02, -5.59870459e-02,  4.92755684e-02,\n",
              "         5.51819982e-02, -9.00870167e-02, -1.64139712e-02,\n",
              "         0.00000000e+00, -1.48415197e-04, -5.37089544e-02,\n",
              "        -3.44211769e-01, -4.86389861e-01,  4.63158547e-02,\n",
              "         4.01639421e-01,  2.49808471e-01, -6.94830092e-03,\n",
              "        -1.57696558e-04, -1.40699132e-01, -4.35045350e-02,\n",
              "        -1.47006693e-01,  4.11926956e-02,  1.07337559e-01,\n",
              "         3.65321231e-01, -9.18916393e-02, -1.44872868e-05,\n",
              "         7.22642950e-02,  2.96372180e-01,  7.88205389e-02,\n",
              "         1.06827283e-02, -4.18746321e-03, -3.80256815e-02,\n",
              "        -1.86174629e-01],\n",
              "       [ 0.00000000e+00, -2.15328644e-02, -7.93724005e-02,\n",
              "        -3.37854576e-01, -1.72800811e-01, -3.20881269e-01,\n",
              "        -2.21674081e-01,  3.75970011e-02, -8.66072399e-05,\n",
              "         7.83379891e-02, -2.16534674e-01, -2.22577825e-01,\n",
              "        -4.10578049e-01, -1.67072064e-01, -1.27337396e-01,\n",
              "         5.32046928e-02, -2.33056699e-05,  2.15762303e-01,\n",
              "         4.98776914e-02,  1.47241695e-01,  3.51993243e-03,\n",
              "         3.59799904e-02, -5.41646384e-02,  3.66293622e-02,\n",
              "         1.57688872e-02,  1.24202556e-02,  4.03790414e-01,\n",
              "         1.48751631e-01,  1.11523072e-01,  8.66666343e-02,\n",
              "         3.90627748e-01,  1.27939766e-03,  0.00000000e+00,\n",
              "         1.16081985e-01,  1.40518438e-01, -1.38364952e-01,\n",
              "         2.26259979e-01,  1.93736286e-01,  4.64429718e-01,\n",
              "         0.00000000e+00,  2.06731270e-03,  4.56704830e-01,\n",
              "        -3.58172312e-02,  6.34549585e-01,  4.22265232e-01,\n",
              "         1.27855909e-01,  1.25431512e-01, -1.20031661e-03,\n",
              "         3.72853267e-03,  2.29088048e-01, -1.72707219e-01,\n",
              "         9.63562759e-02,  7.54426772e-02, -2.79260265e-01,\n",
              "        -2.00485188e-01, -3.86095460e-03, -1.92845766e-05,\n",
              "        -3.58516974e-02,  2.14786041e-02, -2.40834301e-01,\n",
              "        -1.11174907e-01, -1.77927281e-01, -7.92726179e-02,\n",
              "        -5.61742535e-03],\n",
              "       [ 0.00000000e+00,  6.04378349e-02,  4.16551009e-01,\n",
              "        -1.13950225e-01,  8.12738325e-02,  2.51636860e-01,\n",
              "         3.47831811e-01, -6.26846892e-02, -1.66510788e-04,\n",
              "        -1.18420927e-02,  2.77648453e-01,  1.68251295e-01,\n",
              "         2.64734382e-02, -9.76393021e-02, -6.54437725e-02,\n",
              "        -2.50617596e-02, -1.40516198e-04, -3.56532304e-02,\n",
              "         1.33407789e-01, -4.38920196e-02, -3.94657088e-01,\n",
              "        -4.99656470e-01, -3.91048414e-01, -6.21476107e-03,\n",
              "        -7.13966906e-05,  1.67059455e-01,  2.60644076e-01,\n",
              "        -1.86358161e-01,  2.41882813e-01, -2.85278599e-02,\n",
              "        -2.30230399e-01, -3.41281512e-05,  0.00000000e+00,\n",
              "        -6.20195619e-02,  9.49247796e-02, -1.89108443e-01,\n",
              "        -1.30398480e-02, -6.69884878e-02,  1.08969830e-02,\n",
              "         0.00000000e+00, -1.48779646e-04, -1.55466707e-01,\n",
              "        -1.79003037e-01, -2.49977680e-01, -1.27259760e-01,\n",
              "         1.46046648e-01, -4.66610585e-02, -5.08331813e-04,\n",
              "        -1.51270738e-04, -2.42212956e-03, -4.10833955e-02,\n",
              "        -1.33461882e-01, -9.40225264e-02, -4.45009667e-02,\n",
              "        -4.37036640e-02, -9.45754671e-03, -1.20559666e-05,\n",
              "         3.54126078e-02,  3.48747492e-01,  2.22253704e-01,\n",
              "        -3.88563577e-02,  9.03619958e-02, -2.88135008e-02,\n",
              "        -3.69850265e-02],\n",
              "       [ 0.00000000e+00, -1.04766243e-02, -1.72492062e-01,\n",
              "         1.73724594e-02, -1.31405693e-01, -1.63616890e-01,\n",
              "        -5.99868893e-02, -1.78483293e-03, -1.38753560e-04,\n",
              "        -1.33128218e-01, -1.88282537e-01,  6.73045342e-02,\n",
              "        -3.18369839e-01,  4.61704107e-02,  3.50077399e-02,\n",
              "        -1.54190240e-03, -5.13236642e-05, -9.20604142e-02,\n",
              "         1.76166057e-01,  4.77613442e-02, -2.42914907e-01,\n",
              "        -3.02985530e-01, -8.11862237e-02, -9.48907444e-04,\n",
              "        -1.43001845e-05,  1.24200182e-01,  5.38333321e-04,\n",
              "         1.46880378e-01, -1.52554007e-01, -1.46564250e-01,\n",
              "        -1.82059537e-01, -1.40872624e-04,  0.00000000e+00,\n",
              "         9.24907218e-02,  1.84720833e-01,  2.31975865e-01,\n",
              "        -6.36403135e-02,  1.33469139e-03,  1.13763709e-01,\n",
              "         0.00000000e+00, -4.23644456e-04, -1.15064197e-01,\n",
              "         4.54080427e-01,  6.10174669e-02,  1.66212417e-01,\n",
              "         1.27357547e-01,  1.29298862e-01,  4.23178191e-02,\n",
              "        -1.10173047e-03, -1.29717519e-01,  1.38739138e-01,\n",
              "         1.01739989e-01, -8.80318850e-02,  2.37785762e-01,\n",
              "         5.24110424e-02, -5.92385697e-02, -1.17069074e-05,\n",
              "        -1.29898107e-02, -1.96490424e-01, -1.19711425e-01,\n",
              "         1.08293373e-02,  9.07270674e-02, -6.71279944e-02,\n",
              "        -7.50969390e-02],\n",
              "       [ 0.00000000e+00,  6.14350295e-02,  2.01525868e-02,\n",
              "         1.20071788e-01,  1.82738734e-01,  7.81406082e-03,\n",
              "         1.57404826e-01,  1.08756939e-01, -8.01249504e-05,\n",
              "         8.24872851e-02,  1.64610854e-01,  1.37559493e-01,\n",
              "         4.48103122e-01, -9.46633065e-02, -1.75660046e-04,\n",
              "         5.91531459e-02, -2.29685458e-05, -2.87899586e-01,\n",
              "        -1.77944015e-01, -1.82337093e-01,  9.78135635e-02,\n",
              "         2.52686454e-01,  1.17203498e-01,  9.92896732e-03,\n",
              "        -1.62999541e-05, -1.12927596e-01, -5.04007152e-02,\n",
              "        -2.72378776e-01, -2.91201657e-02,  1.59034510e-01,\n",
              "         1.92535347e-01, -2.52428033e-05,  0.00000000e+00,\n",
              "         7.89495561e-02,  2.49936929e-02, -4.37529701e-02,\n",
              "         1.30750161e-01,  2.37732857e-01,  1.27626694e-01,\n",
              "         0.00000000e+00, -1.48516219e-04,  2.37315582e-02,\n",
              "        -5.49593732e-03,  9.69519426e-02,  1.17936465e-01,\n",
              "        -1.15333814e-01, -2.67529208e-02, -4.61314208e-04,\n",
              "        -1.93684470e-04, -5.11161787e-02, -3.73902269e-02,\n",
              "         7.43578545e-02, -2.13833077e-01, -3.68626387e-01,\n",
              "        -1.10207950e-01, -2.98451611e-03, -2.55386025e-05,\n",
              "         1.57262413e-02, -5.66615741e-02, -1.95732649e-01,\n",
              "        -2.82651816e-01, -2.48099107e-01, -7.62112666e-02,\n",
              "        -6.41610261e-03],\n",
              "       [ 0.00000000e+00, -6.94564585e-02,  3.10198585e-02,\n",
              "        -1.19183928e-01,  1.80330714e-01, -1.27789555e-01,\n",
              "        -2.08706205e-01, -8.72125021e-03,  2.40630529e-02,\n",
              "        -3.26010791e-02,  1.40814202e-01,  1.01739188e-01,\n",
              "        -2.88112613e-01,  1.85969098e-01,  1.54039529e-01,\n",
              "        -5.54366704e-03,  7.59793818e-03, -5.53179892e-02,\n",
              "         9.12535818e-02, -2.61827021e-03,  4.56731443e-02,\n",
              "         2.21095834e-01, -1.79102434e-02, -2.67490356e-03,\n",
              "        -2.65611333e-05,  1.15145032e-01, -1.06400464e-01,\n",
              "         3.39437084e-01, -2.08579176e-01, -3.99017716e-02,\n",
              "         1.61329638e-01, -4.00594312e-05,  0.00000000e+00,\n",
              "        -6.39940998e-02, -8.14266187e-02,  2.50680024e-01,\n",
              "         6.33036024e-02, -1.81319337e-01, -3.88825210e-01,\n",
              "         0.00000000e+00, -1.51828265e-04,  5.48855334e-02,\n",
              "         1.77836453e-01,  1.56622845e-01,  1.26265755e-01,\n",
              "        -7.66868955e-03,  1.73452520e-01, -2.88397574e-03,\n",
              "        -1.81242809e-03,  3.46454857e-02,  9.92532326e-02,\n",
              "        -2.75172636e-01, -1.93651032e-01,  1.82517851e-01,\n",
              "         1.63888560e-02, -2.42428804e-02, -5.58375187e-04,\n",
              "        -4.63538949e-02, -2.11856639e-01, -1.00493375e-01,\n",
              "         1.99653367e-01, -3.07515437e-02, -2.58676469e-02,\n",
              "        -5.34298630e-02],\n",
              "       [ 0.00000000e+00, -1.11265761e-01, -7.34209460e-02,\n",
              "         2.04764304e-01,  2.48679931e-01, -7.50300463e-02,\n",
              "        -7.19966638e-03, -4.81445336e-02, -1.26809395e-04,\n",
              "         6.18927086e-02,  1.16916213e-01,  1.94056962e-03,\n",
              "        -1.52271682e-01,  8.51700392e-02,  1.44006436e-01,\n",
              "        -5.25575219e-02, -2.51037748e-05,  6.21291882e-02,\n",
              "        -3.49421424e-03,  1.74799908e-01,  2.43302101e-01,\n",
              "         4.85456741e-01,  6.45471558e-02, -3.00266213e-02,\n",
              "        -1.17083121e-05, -2.34994031e-02,  1.83239394e-01,\n",
              "         3.31924941e-01,  1.14286441e-01,  1.86138945e-01,\n",
              "        -1.07428765e-01, -7.05664798e-04,  0.00000000e+00,\n",
              "        -3.07588612e-01, -2.03297098e-01,  2.41084253e-01,\n",
              "        -1.31585450e-01,  1.84784636e-02, -4.76249394e-02,\n",
              "         0.00000000e+00, -1.48444024e-04,  9.19602173e-03,\n",
              "        -4.36106370e-01, -8.12813597e-01, -4.53668030e-01,\n",
              "        -1.66034082e-01, -2.32868252e-01,  2.90875282e-04,\n",
              "        -1.54381340e-04,  6.79690734e-02, -1.13920365e-01,\n",
              "        -1.74218391e-01, -1.98698453e-01, -2.42374968e-01,\n",
              "        -3.47415689e-02,  4.44571171e-02, -1.33279030e-05,\n",
              "        -7.96221304e-02, -3.13609832e-02,  8.80983324e-02,\n",
              "         7.70488024e-02, -9.39606489e-03, -7.79732799e-02,\n",
              "         2.84211652e-03]])"
            ]
          },
          "metadata": {
            "tags": []
          },
          "execution_count": 89
        }
      ]
    },
    {
      "cell_type": "code",
      "metadata": {
        "id": "ZXkpqhQWlhNU",
        "outputId": "877c7a48-1b50-4e79-cfd9-aa0a47fb5b7a",
        "colab": {
          "base_uri": "https://localhost:8080/",
          "height": 102
        }
      },
      "source": [
        "x_test[56]"
      ],
      "execution_count": null,
      "outputs": [
        {
          "output_type": "execute_result",
          "data": {
            "text/plain": [
              "array([ 0.,  0.,  4., 12., 16., 16., 11.,  2.,  0.,  0., 15., 13.,  8.,\n",
              "       11.,  8.,  1.,  0.,  2., 15., 13., 16.,  8.,  0.,  0.,  0.,  6.,\n",
              "       16., 13., 13., 16.,  2.,  0.,  0.,  7., 11.,  2.,  2., 16.,  6.,\n",
              "        0.,  0.,  0.,  0.,  0.,  5., 15.,  2.,  0.,  0.,  0.,  9.,  6.,\n",
              "       13., 10.,  0.,  0.,  0.,  0.,  7., 14., 13.,  1.,  0.,  0.])"
            ]
          },
          "metadata": {
            "tags": []
          },
          "execution_count": 91
        }
      ]
    },
    {
      "cell_type": "code",
      "metadata": {
        "id": "AHbRAilPg8uU",
        "outputId": "9374b1cc-15b3-40d0-af67-a2476c8d2763",
        "colab": {
          "base_uri": "https://localhost:8080/",
          "height": 282
        }
      },
      "source": [
        "plt.imshow(np.reshape(x_test[56], (8, 8)))\n",
        "print(y_test[56])"
      ],
      "execution_count": null,
      "outputs": [
        {
          "output_type": "stream",
          "text": [
            "5\n"
          ],
          "name": "stdout"
        },
        {
          "output_type": "display_data",
          "data": {
            "image/png": "[encoded data removed]",
            "text/plain": [
              "<Figure size 432x288 with 1 Axes>"
            ]
          },
          "metadata": {
            "tags": [],
            "needs_background": "light"
          }
        }
      ]
    },
    {
      "cell_type": "code",
      "metadata": {
        "id": "mt8p-CLymPCI",
        "outputId": "4c9a4881-ad94-4a14-b045-e34f084d370e",
        "colab": {
          "base_uri": "https://localhost:8080/",
          "height": 34
        }
      },
      "source": [
        "clf.coef_[9].shape"
      ],
      "execution_count": null,
      "outputs": [
        {
          "output_type": "execute_result",
          "data": {
            "text/plain": [
              "(64,)"
            ]
          },
          "metadata": {
            "tags": []
          },
          "execution_count": 94
        }
      ]
    },
    {
      "cell_type": "code",
      "metadata": {
        "id": "uVeXe7X2hlJY",
        "outputId": "6ee9fc82-5576-4188-af16-861cd66f510e",
        "colab": {
          "base_uri": "https://localhost:8080/",
          "height": 34
        }
      },
      "source": [
        "clf.predict(x_test[56:57])"
      ],
      "execution_count": null,
      "outputs": [
        {
          "output_type": "execute_result",
          "data": {
            "text/plain": [
              "array([9])"
            ]
          },
          "metadata": {
            "tags": []
          },
          "execution_count": 86
        }
      ]
    },
    {
      "cell_type": "code",
      "metadata": {
        "id": "56_BuucDi0QR",
        "outputId": "fe270002-7b4c-4fa7-ced2-4deb81ca8d3e",
        "colab": {
          "base_uri": "https://localhost:8080/",
          "height": 34
        }
      },
      "source": [
        "from sklearn.tree import DecisionTreeClassifier\n",
        "\n",
        "sam_tree = DecisionTreeClassifier()\n",
        "\n",
        "sam_tree.fit(x_train, y_train)\n",
        "\n",
        "sam_pred = sam_tree.predict(x_test)\n",
        "print(accuracy_score(sam_pred, y_test))"
      ],
      "execution_count": null,
      "outputs": [
        {
          "output_type": "stream",
          "text": [
            "0.84\n"
          ],
          "name": "stdout"
        }
      ]
    },
    {
      "cell_type": "code",
      "metadata": {
        "id": "80Mm_4cOlAdx"
      },
      "source": [
        ""
      ],
      "execution_count": null,
      "outputs": []
    }
  ]
}